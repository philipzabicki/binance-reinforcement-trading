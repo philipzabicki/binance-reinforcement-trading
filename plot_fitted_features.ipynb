{
 "cells": [
  {
   "cell_type": "code",
   "execution_count": null,
   "id": "8a74f4a9-f983-4e1b-befc-009e9b0e51ff",
   "metadata": {},
   "outputs": [],
   "source": [
    "!pip install seaborn"
   ]
  },
  {
   "cell_type": "code",
   "execution_count": null,
   "id": "436e7377-7160-4b22-949d-a2bb80d34f88",
   "metadata": {},
   "outputs": [],
   "source": [
    "!pip install --upgrade matplotlib"
   ]
  },
  {
   "cell_type": "code",
   "execution_count": 142,
   "id": "22dd40b8-290e-4989-8d5f-933441c5b606",
   "metadata": {},
   "outputs": [],
   "source": [
    "import pandas as pd\n",
    "import numpy as np\n",
    "import matplotlib.pyplot as plt\n",
    "import matplotlib.dates as mdates\n",
    "import seaborn as sns\n",
    "import mplfinance as mpf\n",
    "import pandas as pd\n",
    "import plotly.graph_objects as go"
   ]
  },
  {
   "cell_type": "code",
   "execution_count": 96,
   "id": "54310265-181a-4c7e-abd7-fd7926417a4b",
   "metadata": {},
   "outputs": [],
   "source": [
    "from utils.ta_tools import custom_MACD_with_source, MACD_cross_signal"
   ]
  },
  {
   "cell_type": "code",
   "execution_count": 114,
   "id": "93af4ac9-5721-4305-a71c-afb06ee2e2e1",
   "metadata": {},
   "outputs": [],
   "source": [
    "df = pd.read_csv(\"results_parts/final_combined_actions.csv\")"
   ]
  },
  {
   "cell_type": "code",
   "execution_count": 115,
   "id": "52d9532c-030b-4982-8466-8fdb8eaca9ba",
   "metadata": {},
   "outputs": [
    {
     "data": {
      "text/html": [
       "<div>\n",
       "<style scoped>\n",
       "    .dataframe tbody tr th:only-of-type {\n",
       "        vertical-align: middle;\n",
       "    }\n",
       "\n",
       "    .dataframe tbody tr th {\n",
       "        vertical-align: top;\n",
       "    }\n",
       "\n",
       "    .dataframe thead th {\n",
       "        text-align: right;\n",
       "    }\n",
       "</style>\n",
       "<table border=\"1\" class=\"dataframe\">\n",
       "  <thead>\n",
       "    <tr style=\"text-align: right;\">\n",
       "      <th></th>\n",
       "      <th>Open</th>\n",
       "      <th>High</th>\n",
       "      <th>Low</th>\n",
       "      <th>Close</th>\n",
       "      <th>Volume</th>\n",
       "    </tr>\n",
       "  </thead>\n",
       "  <tbody>\n",
       "    <tr>\n",
       "      <th>0</th>\n",
       "      <td>4308.83</td>\n",
       "      <td>4328.69</td>\n",
       "      <td>4291.37</td>\n",
       "      <td>4315.32</td>\n",
       "      <td>23.234916</td>\n",
       "    </tr>\n",
       "    <tr>\n",
       "      <th>1</th>\n",
       "      <td>4330.29</td>\n",
       "      <td>4345.45</td>\n",
       "      <td>4309.37</td>\n",
       "      <td>4324.35</td>\n",
       "      <td>7.229691</td>\n",
       "    </tr>\n",
       "    <tr>\n",
       "      <th>2</th>\n",
       "      <td>4316.62</td>\n",
       "      <td>4349.99</td>\n",
       "      <td>4287.41</td>\n",
       "      <td>4349.99</td>\n",
       "      <td>4.443249</td>\n",
       "    </tr>\n",
       "    <tr>\n",
       "      <th>3</th>\n",
       "      <td>4333.32</td>\n",
       "      <td>4377.85</td>\n",
       "      <td>4333.32</td>\n",
       "      <td>4360.69</td>\n",
       "      <td>0.972807</td>\n",
       "    </tr>\n",
       "    <tr>\n",
       "      <th>4</th>\n",
       "      <td>4360.00</td>\n",
       "      <td>4445.78</td>\n",
       "      <td>4360.00</td>\n",
       "      <td>4444.00</td>\n",
       "      <td>10.763623</td>\n",
       "    </tr>\n",
       "    <tr>\n",
       "      <th>...</th>\n",
       "      <td>...</td>\n",
       "      <td>...</td>\n",
       "      <td>...</td>\n",
       "      <td>...</td>\n",
       "      <td>...</td>\n",
       "    </tr>\n",
       "    <tr>\n",
       "      <th>64094</th>\n",
       "      <td>99660.99</td>\n",
       "      <td>100198.00</td>\n",
       "      <td>99480.00</td>\n",
       "      <td>100100.98</td>\n",
       "      <td>531.707890</td>\n",
       "    </tr>\n",
       "    <tr>\n",
       "      <th>64095</th>\n",
       "      <td>100100.99</td>\n",
       "      <td>100156.00</td>\n",
       "      <td>99800.00</td>\n",
       "      <td>99800.01</td>\n",
       "      <td>402.066920</td>\n",
       "    </tr>\n",
       "    <tr>\n",
       "      <th>64096</th>\n",
       "      <td>99800.01</td>\n",
       "      <td>100058.83</td>\n",
       "      <td>99736.06</td>\n",
       "      <td>100026.97</td>\n",
       "      <td>359.992030</td>\n",
       "    </tr>\n",
       "    <tr>\n",
       "      <th>64097</th>\n",
       "      <td>100026.98</td>\n",
       "      <td>100274.44</td>\n",
       "      <td>99879.21</td>\n",
       "      <td>100220.01</td>\n",
       "      <td>504.288450</td>\n",
       "    </tr>\n",
       "    <tr>\n",
       "      <th>64098</th>\n",
       "      <td>100220.01</td>\n",
       "      <td>101351.00</td>\n",
       "      <td>100088.98</td>\n",
       "      <td>101109.59</td>\n",
       "      <td>1902.606490</td>\n",
       "    </tr>\n",
       "  </tbody>\n",
       "</table>\n",
       "<p>64099 rows × 5 columns</p>\n",
       "</div>"
      ],
      "text/plain": [
       "            Open       High        Low      Close       Volume\n",
       "0        4308.83    4328.69    4291.37    4315.32    23.234916\n",
       "1        4330.29    4345.45    4309.37    4324.35     7.229691\n",
       "2        4316.62    4349.99    4287.41    4349.99     4.443249\n",
       "3        4333.32    4377.85    4333.32    4360.69     0.972807\n",
       "4        4360.00    4445.78    4360.00    4444.00    10.763623\n",
       "...          ...        ...        ...        ...          ...\n",
       "64094   99660.99  100198.00   99480.00  100100.98   531.707890\n",
       "64095  100100.99  100156.00   99800.00   99800.01   402.066920\n",
       "64096   99800.01  100058.83   99736.06  100026.97   359.992030\n",
       "64097  100026.98  100274.44   99879.21  100220.01   504.288450\n",
       "64098  100220.01  101351.00  100088.98  101109.59  1902.606490\n",
       "\n",
       "[64099 rows x 5 columns]"
      ]
     },
     "execution_count": 115,
     "metadata": {},
     "output_type": "execute_result"
    }
   ],
   "source": [
    "df.iloc[:, 1:6]"
   ]
  },
  {
   "cell_type": "markdown",
   "id": "86afb5b9-bad5-4b5a-bf0c-d04c3217890a",
   "metadata": {},
   "source": [
    "# Load MACD results"
   ]
  },
  {
   "cell_type": "code",
   "execution_count": 144,
   "id": "c373a551-03a7-42b9-bde2-3c70df6a8fca",
   "metadata": {},
   "outputs": [],
   "source": [
    "macd_results = pd.read_csv(\"reports/macd_action_fits/results_macd.csv\")"
   ]
  },
  {
   "cell_type": "code",
   "execution_count": 145,
   "id": "e99d1ad1-a6c5-4fa0-b00d-17b89830d7a1",
   "metadata": {},
   "outputs": [
    {
     "data": {
      "text/html": [
       "<div>\n",
       "<style scoped>\n",
       "    .dataframe tbody tr th:only-of-type {\n",
       "        vertical-align: middle;\n",
       "    }\n",
       "\n",
       "    .dataframe tbody tr th {\n",
       "        vertical-align: top;\n",
       "    }\n",
       "\n",
       "    .dataframe thead th {\n",
       "        text-align: right;\n",
       "    }\n",
       "</style>\n",
       "<table border=\"1\" class=\"dataframe\">\n",
       "  <thead>\n",
       "    <tr style=\"text-align: right;\">\n",
       "      <th></th>\n",
       "      <th>lower</th>\n",
       "      <th>upper</th>\n",
       "      <th>reward</th>\n",
       "      <th>fast_source</th>\n",
       "      <th>slow_source</th>\n",
       "      <th>fast_period</th>\n",
       "      <th>slow_period</th>\n",
       "      <th>signal_period</th>\n",
       "      <th>fast_ma_type</th>\n",
       "      <th>slow_ma_type</th>\n",
       "      <th>signal_ma_type</th>\n",
       "    </tr>\n",
       "  </thead>\n",
       "  <tbody>\n",
       "    <tr>\n",
       "      <th>0</th>\n",
       "      <td>1.000002</td>\n",
       "      <td>1.001333</td>\n",
       "      <td>-0.425460</td>\n",
       "      <td>hl2</td>\n",
       "      <td>close</td>\n",
       "      <td>784</td>\n",
       "      <td>2</td>\n",
       "      <td>3</td>\n",
       "      <td>28</td>\n",
       "      <td>6</td>\n",
       "      <td>11</td>\n",
       "    </tr>\n",
       "    <tr>\n",
       "      <th>1</th>\n",
       "      <td>1.001333</td>\n",
       "      <td>1.002569</td>\n",
       "      <td>-0.442470</td>\n",
       "      <td>low</td>\n",
       "      <td>close</td>\n",
       "      <td>972</td>\n",
       "      <td>2</td>\n",
       "      <td>2</td>\n",
       "      <td>23</td>\n",
       "      <td>6</td>\n",
       "      <td>1</td>\n",
       "    </tr>\n",
       "    <tr>\n",
       "      <th>2</th>\n",
       "      <td>1.002569</td>\n",
       "      <td>1.003809</td>\n",
       "      <td>-0.442873</td>\n",
       "      <td>ohlc4</td>\n",
       "      <td>close</td>\n",
       "      <td>984</td>\n",
       "      <td>2</td>\n",
       "      <td>5</td>\n",
       "      <td>23</td>\n",
       "      <td>15</td>\n",
       "      <td>4</td>\n",
       "    </tr>\n",
       "    <tr>\n",
       "      <th>3</th>\n",
       "      <td>1.003809</td>\n",
       "      <td>1.005223</td>\n",
       "      <td>-0.447987</td>\n",
       "      <td>open</td>\n",
       "      <td>close</td>\n",
       "      <td>978</td>\n",
       "      <td>2</td>\n",
       "      <td>14</td>\n",
       "      <td>23</td>\n",
       "      <td>6</td>\n",
       "      <td>4</td>\n",
       "    </tr>\n",
       "    <tr>\n",
       "      <th>4</th>\n",
       "      <td>1.005223</td>\n",
       "      <td>1.006963</td>\n",
       "      <td>-0.420718</td>\n",
       "      <td>low</td>\n",
       "      <td>close</td>\n",
       "      <td>916</td>\n",
       "      <td>2</td>\n",
       "      <td>10</td>\n",
       "      <td>23</td>\n",
       "      <td>6</td>\n",
       "      <td>17</td>\n",
       "    </tr>\n",
       "    <tr>\n",
       "      <th>5</th>\n",
       "      <td>1.006963</td>\n",
       "      <td>1.009249</td>\n",
       "      <td>-0.404656</td>\n",
       "      <td>hlcc4</td>\n",
       "      <td>close</td>\n",
       "      <td>996</td>\n",
       "      <td>2</td>\n",
       "      <td>15</td>\n",
       "      <td>23</td>\n",
       "      <td>6</td>\n",
       "      <td>17</td>\n",
       "    </tr>\n",
       "    <tr>\n",
       "      <th>6</th>\n",
       "      <td>1.009249</td>\n",
       "      <td>1.012627</td>\n",
       "      <td>-0.392993</td>\n",
       "      <td>low</td>\n",
       "      <td>close</td>\n",
       "      <td>976</td>\n",
       "      <td>2</td>\n",
       "      <td>103</td>\n",
       "      <td>23</td>\n",
       "      <td>6</td>\n",
       "      <td>10</td>\n",
       "    </tr>\n",
       "    <tr>\n",
       "      <th>7</th>\n",
       "      <td>1.012627</td>\n",
       "      <td>1.018450</td>\n",
       "      <td>-0.378266</td>\n",
       "      <td>hl2</td>\n",
       "      <td>close</td>\n",
       "      <td>991</td>\n",
       "      <td>2</td>\n",
       "      <td>68</td>\n",
       "      <td>23</td>\n",
       "      <td>6</td>\n",
       "      <td>16</td>\n",
       "    </tr>\n",
       "    <tr>\n",
       "      <th>8</th>\n",
       "      <td>1.018450</td>\n",
       "      <td>1.030146</td>\n",
       "      <td>-0.339004</td>\n",
       "      <td>low</td>\n",
       "      <td>close</td>\n",
       "      <td>999</td>\n",
       "      <td>2</td>\n",
       "      <td>660</td>\n",
       "      <td>23</td>\n",
       "      <td>6</td>\n",
       "      <td>16</td>\n",
       "    </tr>\n",
       "    <tr>\n",
       "      <th>9</th>\n",
       "      <td>1.030146</td>\n",
       "      <td>1.311109</td>\n",
       "      <td>-0.297265</td>\n",
       "      <td>low</td>\n",
       "      <td>close</td>\n",
       "      <td>989</td>\n",
       "      <td>2</td>\n",
       "      <td>361</td>\n",
       "      <td>23</td>\n",
       "      <td>9</td>\n",
       "      <td>16</td>\n",
       "    </tr>\n",
       "  </tbody>\n",
       "</table>\n",
       "</div>"
      ],
      "text/plain": [
       "      lower     upper    reward fast_source slow_source  fast_period  \\\n",
       "0  1.000002  1.001333 -0.425460         hl2       close          784   \n",
       "1  1.001333  1.002569 -0.442470         low       close          972   \n",
       "2  1.002569  1.003809 -0.442873       ohlc4       close          984   \n",
       "3  1.003809  1.005223 -0.447987        open       close          978   \n",
       "4  1.005223  1.006963 -0.420718         low       close          916   \n",
       "5  1.006963  1.009249 -0.404656       hlcc4       close          996   \n",
       "6  1.009249  1.012627 -0.392993         low       close          976   \n",
       "7  1.012627  1.018450 -0.378266         hl2       close          991   \n",
       "8  1.018450  1.030146 -0.339004         low       close          999   \n",
       "9  1.030146  1.311109 -0.297265         low       close          989   \n",
       "\n",
       "   slow_period  signal_period  fast_ma_type  slow_ma_type  signal_ma_type  \n",
       "0            2              3            28             6              11  \n",
       "1            2              2            23             6               1  \n",
       "2            2              5            23            15               4  \n",
       "3            2             14            23             6               4  \n",
       "4            2             10            23             6              17  \n",
       "5            2             15            23             6              17  \n",
       "6            2            103            23             6              10  \n",
       "7            2             68            23             6              16  \n",
       "8            2            660            23             6              16  \n",
       "9            2            361            23             9              16  "
      ]
     },
     "execution_count": 145,
     "metadata": {},
     "output_type": "execute_result"
    }
   ],
   "source": [
    "macd_results"
   ]
  },
  {
   "cell_type": "code",
   "execution_count": 160,
   "id": "f0f8d759-34a7-40f3-b3db-6e42c74f4919",
   "metadata": {},
   "outputs": [],
   "source": [
    "macd, macd_signal = custom_MACD_with_source(\n",
    "    df.iloc[:, 1:6].to_numpy().astype(float),\n",
    "    fast_source=\"low\",\n",
    "    slow_source=\"close\",\n",
    "    fast_ma_type=23,\n",
    "    fast_period=976,\n",
    "    slow_ma_type=6,\n",
    "    slow_period=2,\n",
    "    signal_ma_type=10,\n",
    "    signal_period=103,\n",
    ")"
   ]
  },
  {
   "cell_type": "code",
   "execution_count": 161,
   "id": "61617eb0-a1de-4f86-bf10-415701f3df60",
   "metadata": {},
   "outputs": [],
   "source": [
    "signals = np.array(MACD_cross_signal(macd, macd_signal))"
   ]
  },
  {
   "cell_type": "code",
   "execution_count": 162,
   "id": "a2f9f5bf-e458-4da2-aba0-98b43d0e2abe",
   "metadata": {},
   "outputs": [
    {
     "data": {
      "text/plain": [
       "[<matplotlib.lines.Line2D at 0x1a3a9a02550>]"
      ]
     },
     "execution_count": 162,
     "metadata": {},
     "output_type": "execute_result"
    },
    {
     "data": {
      "image/png": "[encoded data removed]",
      "text/plain": [
       "<Figure size 640x480 with 1 Axes>"
      ]
     },
     "metadata": {},
     "output_type": "display_data"
    }
   ],
   "source": [
    "plt.plot(macd[-50:])\n",
    "plt.plot(macd_signal[-50:])"
   ]
  },
  {
   "cell_type": "code",
   "execution_count": 163,
   "id": "d9b1da49-d2cf-4bb1-a841-a2edcbf2aec8",
   "metadata": {},
   "outputs": [
    {
     "data": {
      "text/plain": [
       "[<matplotlib.lines.Line2D at 0x1a3a9419350>]"
      ]
     },
     "execution_count": 163,
     "metadata": {},
     "output_type": "execute_result"
    },
    {
     "data": {
      "image/png": "[encoded data removed]",
      "text/plain": [
       "<Figure size 640x480 with 1 Axes>"
      ]
     },
     "metadata": {},
     "output_type": "display_data"
    }
   ],
   "source": [
    "plt.plot(signals[-50:])"
   ]
  },
  {
   "cell_type": "code",
   "execution_count": 164,
   "id": "38e2e6c7-7198-4b91-b04a-fb760b56dd75",
   "metadata": {},
   "outputs": [
    {
     "data": {
      "text/plain": [
       "[<matplotlib.lines.Line2D at 0x1a3a9a1be10>]"
      ]
     },
     "execution_count": 164,
     "metadata": {},
     "output_type": "execute_result"
    },
    {
     "data": {
      "image/png": "[encoded data removed]",
      "text/plain": [
       "<Figure size 640x480 with 1 Axes>"
      ]
     },
     "metadata": {},
     "output_type": "display_data"
    }
   ],
   "source": [
    "plt.plot(df.head(50)[\"Action\"])"
   ]
  },
  {
   "cell_type": "code",
   "execution_count": 165,
   "id": "999b641a-b1ed-47f0-be4d-76b66390bd3c",
   "metadata": {},
   "outputs": [],
   "source": [
    "df[\"MACD\"] = macd\n",
    "df[\"MACD_Signal\"] = macd_signal\n",
    "df[\"Signal\"] = signals"
   ]
  },
  {
   "cell_type": "code",
   "execution_count": 166,
   "id": "291b3c76-fab3-4136-963e-2f40e316976c",
   "metadata": {},
   "outputs": [
    {
     "data": {
      "text/html": [
       "<div>\n",
       "<style scoped>\n",
       "    .dataframe tbody tr th:only-of-type {\n",
       "        vertical-align: middle;\n",
       "    }\n",
       "\n",
       "    .dataframe tbody tr th {\n",
       "        vertical-align: top;\n",
       "    }\n",
       "\n",
       "    .dataframe thead th {\n",
       "        text-align: right;\n",
       "    }\n",
       "</style>\n",
       "<table border=\"1\" class=\"dataframe\">\n",
       "  <thead>\n",
       "    <tr style=\"text-align: right;\">\n",
       "      <th></th>\n",
       "      <th>Opened</th>\n",
       "      <th>Open</th>\n",
       "      <th>High</th>\n",
       "      <th>Low</th>\n",
       "      <th>Close</th>\n",
       "      <th>Volume</th>\n",
       "      <th>Action</th>\n",
       "      <th>Weight</th>\n",
       "      <th>MACD</th>\n",
       "      <th>MACD_Signal</th>\n",
       "      <th>Signal</th>\n",
       "    </tr>\n",
       "  </thead>\n",
       "  <tbody>\n",
       "    <tr>\n",
       "      <th>0</th>\n",
       "      <td>2017-08-17 05:00:00</td>\n",
       "      <td>4308.83</td>\n",
       "      <td>4328.69</td>\n",
       "      <td>4291.37</td>\n",
       "      <td>4315.32</td>\n",
       "      <td>23.234916</td>\n",
       "      <td>1</td>\n",
       "      <td>1.032752</td>\n",
       "      <td>4291.370000</td>\n",
       "      <td>4291.370000</td>\n",
       "      <td>0.00</td>\n",
       "    </tr>\n",
       "    <tr>\n",
       "      <th>1</th>\n",
       "      <td>2017-08-17 06:00:00</td>\n",
       "      <td>4330.29</td>\n",
       "      <td>4345.45</td>\n",
       "      <td>4309.37</td>\n",
       "      <td>4324.35</td>\n",
       "      <td>7.229691</td>\n",
       "      <td>0</td>\n",
       "      <td>1.032752</td>\n",
       "      <td>4291.388136</td>\n",
       "      <td>4291.370185</td>\n",
       "      <td>0.00</td>\n",
       "    </tr>\n",
       "    <tr>\n",
       "      <th>2</th>\n",
       "      <td>2017-08-17 07:00:00</td>\n",
       "      <td>4316.62</td>\n",
       "      <td>4349.99</td>\n",
       "      <td>4287.41</td>\n",
       "      <td>4349.99</td>\n",
       "      <td>4.443249</td>\n",
       "      <td>0</td>\n",
       "      <td>1.032752</td>\n",
       "      <td>4291.384045</td>\n",
       "      <td>4291.370473</td>\n",
       "      <td>-0.50</td>\n",
       "    </tr>\n",
       "    <tr>\n",
       "      <th>3</th>\n",
       "      <td>2017-08-17 08:00:00</td>\n",
       "      <td>4333.32</td>\n",
       "      <td>4377.85</td>\n",
       "      <td>4333.32</td>\n",
       "      <td>4360.69</td>\n",
       "      <td>0.972807</td>\n",
       "      <td>0</td>\n",
       "      <td>1.032752</td>\n",
       "      <td>-70.309442</td>\n",
       "      <td>4246.803038</td>\n",
       "      <td>-0.75</td>\n",
       "    </tr>\n",
       "    <tr>\n",
       "      <th>4</th>\n",
       "      <td>2017-08-17 09:00:00</td>\n",
       "      <td>4360.00</td>\n",
       "      <td>4445.78</td>\n",
       "      <td>4360.00</td>\n",
       "      <td>4444.00</td>\n",
       "      <td>10.763623</td>\n",
       "      <td>0</td>\n",
       "      <td>1.032752</td>\n",
       "      <td>-150.051605</td>\n",
       "      <td>4166.829750</td>\n",
       "      <td>0.00</td>\n",
       "    </tr>\n",
       "    <tr>\n",
       "      <th>...</th>\n",
       "      <td>...</td>\n",
       "      <td>...</td>\n",
       "      <td>...</td>\n",
       "      <td>...</td>\n",
       "      <td>...</td>\n",
       "      <td>...</td>\n",
       "      <td>...</td>\n",
       "      <td>...</td>\n",
       "      <td>...</td>\n",
       "      <td>...</td>\n",
       "      <td>...</td>\n",
       "    </tr>\n",
       "    <tr>\n",
       "      <th>64094</th>\n",
       "      <td>2024-12-08 19:00:00</td>\n",
       "      <td>99660.99</td>\n",
       "      <td>100198.00</td>\n",
       "      <td>99480.00</td>\n",
       "      <td>100100.98</td>\n",
       "      <td>531.707890</td>\n",
       "      <td>-1</td>\n",
       "      <td>1.003662</td>\n",
       "      <td>-33535.204400</td>\n",
       "      <td>-33567.710169</td>\n",
       "      <td>-0.25</td>\n",
       "    </tr>\n",
       "    <tr>\n",
       "      <th>64095</th>\n",
       "      <td>2024-12-08 20:00:00</td>\n",
       "      <td>100100.99</td>\n",
       "      <td>100156.00</td>\n",
       "      <td>99800.00</td>\n",
       "      <td>99800.01</td>\n",
       "      <td>402.066920</td>\n",
       "      <td>1</td>\n",
       "      <td>1.003455</td>\n",
       "      <td>-33276.883535</td>\n",
       "      <td>-33565.721828</td>\n",
       "      <td>0.00</td>\n",
       "    </tr>\n",
       "    <tr>\n",
       "      <th>64096</th>\n",
       "      <td>2024-12-08 21:00:00</td>\n",
       "      <td>99800.01</td>\n",
       "      <td>100058.83</td>\n",
       "      <td>99736.06</td>\n",
       "      <td>100026.97</td>\n",
       "      <td>359.992030</td>\n",
       "      <td>0</td>\n",
       "      <td>1.003455</td>\n",
       "      <td>-33459.031608</td>\n",
       "      <td>-33565.150809</td>\n",
       "      <td>-0.25</td>\n",
       "    </tr>\n",
       "    <tr>\n",
       "      <th>64097</th>\n",
       "      <td>2024-12-08 22:00:00</td>\n",
       "      <td>100026.98</td>\n",
       "      <td>100274.44</td>\n",
       "      <td>99879.21</td>\n",
       "      <td>100220.01</td>\n",
       "      <td>504.288450</td>\n",
       "      <td>-1</td>\n",
       "      <td>1.003455</td>\n",
       "      <td>-33657.170601</td>\n",
       "      <td>-33567.693817</td>\n",
       "      <td>-0.75</td>\n",
       "    </tr>\n",
       "    <tr>\n",
       "      <th>64098</th>\n",
       "      <td>2024-12-08 23:00:00</td>\n",
       "      <td>100220.01</td>\n",
       "      <td>101351.00</td>\n",
       "      <td>100088.98</td>\n",
       "      <td>101109.59</td>\n",
       "      <td>1902.606490</td>\n",
       "      <td>0</td>\n",
       "      <td>1.000000</td>\n",
       "      <td>-34518.518819</td>\n",
       "      <td>-33581.433280</td>\n",
       "      <td>0.00</td>\n",
       "    </tr>\n",
       "  </tbody>\n",
       "</table>\n",
       "<p>64099 rows × 11 columns</p>\n",
       "</div>"
      ],
      "text/plain": [
       "                    Opened       Open       High        Low      Close  \\\n",
       "0      2017-08-17 05:00:00    4308.83    4328.69    4291.37    4315.32   \n",
       "1      2017-08-17 06:00:00    4330.29    4345.45    4309.37    4324.35   \n",
       "2      2017-08-17 07:00:00    4316.62    4349.99    4287.41    4349.99   \n",
       "3      2017-08-17 08:00:00    4333.32    4377.85    4333.32    4360.69   \n",
       "4      2017-08-17 09:00:00    4360.00    4445.78    4360.00    4444.00   \n",
       "...                    ...        ...        ...        ...        ...   \n",
       "64094  2024-12-08 19:00:00   99660.99  100198.00   99480.00  100100.98   \n",
       "64095  2024-12-08 20:00:00  100100.99  100156.00   99800.00   99800.01   \n",
       "64096  2024-12-08 21:00:00   99800.01  100058.83   99736.06  100026.97   \n",
       "64097  2024-12-08 22:00:00  100026.98  100274.44   99879.21  100220.01   \n",
       "64098  2024-12-08 23:00:00  100220.01  101351.00  100088.98  101109.59   \n",
       "\n",
       "            Volume  Action    Weight          MACD   MACD_Signal  Signal  \n",
       "0        23.234916       1  1.032752   4291.370000   4291.370000    0.00  \n",
       "1         7.229691       0  1.032752   4291.388136   4291.370185    0.00  \n",
       "2         4.443249       0  1.032752   4291.384045   4291.370473   -0.50  \n",
       "3         0.972807       0  1.032752    -70.309442   4246.803038   -0.75  \n",
       "4        10.763623       0  1.032752   -150.051605   4166.829750    0.00  \n",
       "...            ...     ...       ...           ...           ...     ...  \n",
       "64094   531.707890      -1  1.003662 -33535.204400 -33567.710169   -0.25  \n",
       "64095   402.066920       1  1.003455 -33276.883535 -33565.721828    0.00  \n",
       "64096   359.992030       0  1.003455 -33459.031608 -33565.150809   -0.25  \n",
       "64097   504.288450      -1  1.003455 -33657.170601 -33567.693817   -0.75  \n",
       "64098  1902.606490       0  1.000000 -34518.518819 -33581.433280    0.00  \n",
       "\n",
       "[64099 rows x 11 columns]"
      ]
     },
     "execution_count": 166,
     "metadata": {},
     "output_type": "execute_result"
    }
   ],
   "source": [
    "df"
   ]
  },
  {
   "cell_type": "code",
   "execution_count": 170,
   "id": "ba001994-8031-4c47-9b7f-85a45af1af55",
   "metadata": {},
   "outputs": [],
   "source": [
    "df_plot = df.tail(50).copy()"
   ]
  },
  {
   "cell_type": "code",
   "execution_count": 171,
   "id": "f4228d68-8f7b-416f-83c2-a24b90dc9ccc",
   "metadata": {},
   "outputs": [
    {
     "data": {
      "text/html": [
       "<div>\n",
       "<style scoped>\n",
       "    .dataframe tbody tr th:only-of-type {\n",
       "        vertical-align: middle;\n",
       "    }\n",
       "\n",
       "    .dataframe tbody tr th {\n",
       "        vertical-align: top;\n",
       "    }\n",
       "\n",
       "    .dataframe thead th {\n",
       "        text-align: right;\n",
       "    }\n",
       "</style>\n",
       "<table border=\"1\" class=\"dataframe\">\n",
       "  <thead>\n",
       "    <tr style=\"text-align: right;\">\n",
       "      <th></th>\n",
       "      <th>Opened</th>\n",
       "      <th>Open</th>\n",
       "      <th>High</th>\n",
       "      <th>Low</th>\n",
       "      <th>Close</th>\n",
       "      <th>Volume</th>\n",
       "      <th>Action</th>\n",
       "      <th>Weight</th>\n",
       "      <th>MACD</th>\n",
       "      <th>MACD_Signal</th>\n",
       "      <th>Signal</th>\n",
       "    </tr>\n",
       "  </thead>\n",
       "  <tbody>\n",
       "    <tr>\n",
       "      <th>64049</th>\n",
       "      <td>2024-12-06 22:00:00</td>\n",
       "      <td>100372.01</td>\n",
       "      <td>100707.37</td>\n",
       "      <td>100357.68</td>\n",
       "      <td>100504.00</td>\n",
       "      <td>695.79652</td>\n",
       "      <td>-1</td>\n",
       "      <td>1.000564</td>\n",
       "      <td>-34215.794407</td>\n",
       "      <td>-33397.981318</td>\n",
       "      <td>0.00</td>\n",
       "    </tr>\n",
       "    <tr>\n",
       "      <th>64050</th>\n",
       "      <td>2024-12-06 23:00:00</td>\n",
       "      <td>100504.00</td>\n",
       "      <td>100573.99</td>\n",
       "      <td>99053.03</td>\n",
       "      <td>99740.84</td>\n",
       "      <td>1999.91146</td>\n",
       "      <td>1</td>\n",
       "      <td>1.002290</td>\n",
       "      <td>-33512.088390</td>\n",
       "      <td>-33447.808106</td>\n",
       "      <td>0.50</td>\n",
       "    </tr>\n",
       "    <tr>\n",
       "      <th>64051</th>\n",
       "      <td>2024-12-07 00:00:00</td>\n",
       "      <td>100504.00</td>\n",
       "      <td>100573.99</td>\n",
       "      <td>99053.03</td>\n",
       "      <td>99740.84</td>\n",
       "      <td>1999.91146</td>\n",
       "      <td>0</td>\n",
       "      <td>1.002290</td>\n",
       "      <td>-33461.729853</td>\n",
       "      <td>-33490.595745</td>\n",
       "      <td>1.00</td>\n",
       "    </tr>\n",
       "    <tr>\n",
       "      <th>64052</th>\n",
       "      <td>2024-12-07 01:00:00</td>\n",
       "      <td>100272.01</td>\n",
       "      <td>100428.00</td>\n",
       "      <td>99824.62</td>\n",
       "      <td>100044.31</td>\n",
       "      <td>666.65588</td>\n",
       "      <td>-1</td>\n",
       "      <td>1.002290</td>\n",
       "      <td>-33768.432861</td>\n",
       "      <td>-33530.603879</td>\n",
       "      <td>-0.75</td>\n",
       "    </tr>\n",
       "    <tr>\n",
       "      <th>64053</th>\n",
       "      <td>2024-12-07 02:00:00</td>\n",
       "      <td>100044.31</td>\n",
       "      <td>100169.42</td>\n",
       "      <td>99868.00</td>\n",
       "      <td>99930.01</td>\n",
       "      <td>423.24483</td>\n",
       "      <td>0</td>\n",
       "      <td>1.000000</td>\n",
       "      <td>-33684.050182</td>\n",
       "      <td>-33567.199012</td>\n",
       "      <td>0.50</td>\n",
       "    </tr>\n",
       "    <tr>\n",
       "      <th>64054</th>\n",
       "      <td>2024-12-07 03:00:00</td>\n",
       "      <td>99930.01</td>\n",
       "      <td>99930.01</td>\n",
       "      <td>99285.71</td>\n",
       "      <td>99299.63</td>\n",
       "      <td>800.94309</td>\n",
       "      <td>1</td>\n",
       "      <td>1.001212</td>\n",
       "      <td>-33055.556770</td>\n",
       "      <td>-33594.351790</td>\n",
       "      <td>1.00</td>\n",
       "    </tr>\n",
       "    <tr>\n",
       "      <th>64055</th>\n",
       "      <td>2024-12-07 04:00:00</td>\n",
       "      <td>99299.64</td>\n",
       "      <td>99666.31</td>\n",
       "      <td>99025.01</td>\n",
       "      <td>99494.57</td>\n",
       "      <td>859.54997</td>\n",
       "      <td>-1</td>\n",
       "      <td>1.001212</td>\n",
       "      <td>-33187.212434</td>\n",
       "      <td>-33615.177054</td>\n",
       "      <td>0.00</td>\n",
       "    </tr>\n",
       "    <tr>\n",
       "      <th>64056</th>\n",
       "      <td>2024-12-07 05:00:00</td>\n",
       "      <td>99494.58</td>\n",
       "      <td>99643.96</td>\n",
       "      <td>98844.00</td>\n",
       "      <td>99155.98</td>\n",
       "      <td>909.81086</td>\n",
       "      <td>1</td>\n",
       "      <td>1.004495</td>\n",
       "      <td>-32883.822654</td>\n",
       "      <td>-33627.723528</td>\n",
       "      <td>0.50</td>\n",
       "    </tr>\n",
       "    <tr>\n",
       "      <th>64057</th>\n",
       "      <td>2024-12-07 06:00:00</td>\n",
       "      <td>99155.99</td>\n",
       "      <td>99393.60</td>\n",
       "      <td>99060.12</td>\n",
       "      <td>99336.27</td>\n",
       "      <td>808.71363</td>\n",
       "      <td>0</td>\n",
       "      <td>1.004495</td>\n",
       "      <td>-33029.189234</td>\n",
       "      <td>-33635.113494</td>\n",
       "      <td>0.00</td>\n",
       "    </tr>\n",
       "    <tr>\n",
       "      <th>64058</th>\n",
       "      <td>2024-12-07 07:00:00</td>\n",
       "      <td>99336.28</td>\n",
       "      <td>99494.19</td>\n",
       "      <td>99108.00</td>\n",
       "      <td>99405.20</td>\n",
       "      <td>675.92852</td>\n",
       "      <td>0</td>\n",
       "      <td>1.004495</td>\n",
       "      <td>-33109.441689</td>\n",
       "      <td>-33639.172374</td>\n",
       "      <td>0.00</td>\n",
       "    </tr>\n",
       "    <tr>\n",
       "      <th>64059</th>\n",
       "      <td>2024-12-07 08:00:00</td>\n",
       "      <td>99405.20</td>\n",
       "      <td>99561.44</td>\n",
       "      <td>99260.00</td>\n",
       "      <td>99414.76</td>\n",
       "      <td>498.53222</td>\n",
       "      <td>0</td>\n",
       "      <td>1.004495</td>\n",
       "      <td>-33116.015762</td>\n",
       "      <td>-33640.606338</td>\n",
       "      <td>0.00</td>\n",
       "    </tr>\n",
       "    <tr>\n",
       "      <th>64060</th>\n",
       "      <td>2024-12-07 09:00:00</td>\n",
       "      <td>99414.76</td>\n",
       "      <td>99821.83</td>\n",
       "      <td>99414.75</td>\n",
       "      <td>99676.48</td>\n",
       "      <td>558.38011</td>\n",
       "      <td>-1</td>\n",
       "      <td>1.004495</td>\n",
       "      <td>-33358.084549</td>\n",
       "      <td>-33642.397273</td>\n",
       "      <td>0.00</td>\n",
       "    </tr>\n",
       "    <tr>\n",
       "      <th>64061</th>\n",
       "      <td>2024-12-07 10:00:00</td>\n",
       "      <td>99676.48</td>\n",
       "      <td>99708.43</td>\n",
       "      <td>99440.00</td>\n",
       "      <td>99529.50</td>\n",
       "      <td>795.39219</td>\n",
       "      <td>1</td>\n",
       "      <td>1.000159</td>\n",
       "      <td>-33226.891529</td>\n",
       "      <td>-33643.067408</td>\n",
       "      <td>0.50</td>\n",
       "    </tr>\n",
       "    <tr>\n",
       "      <th>64062</th>\n",
       "      <td>2024-12-07 11:00:00</td>\n",
       "      <td>99529.50</td>\n",
       "      <td>99750.00</td>\n",
       "      <td>99421.53</td>\n",
       "      <td>99620.00</td>\n",
       "      <td>437.99027</td>\n",
       "      <td>-1</td>\n",
       "      <td>1.000159</td>\n",
       "      <td>-33289.218266</td>\n",
       "      <td>-33643.444809</td>\n",
       "      <td>0.00</td>\n",
       "    </tr>\n",
       "    <tr>\n",
       "      <th>64063</th>\n",
       "      <td>2024-12-07 12:00:00</td>\n",
       "      <td>99620.00</td>\n",
       "      <td>99703.55</td>\n",
       "      <td>99364.00</td>\n",
       "      <td>99426.87</td>\n",
       "      <td>421.89864</td>\n",
       "      <td>0</td>\n",
       "      <td>1.000000</td>\n",
       "      <td>-33103.163805</td>\n",
       "      <td>-33641.643869</td>\n",
       "      <td>0.00</td>\n",
       "    </tr>\n",
       "    <tr>\n",
       "      <th>64064</th>\n",
       "      <td>2024-12-07 13:00:00</td>\n",
       "      <td>99426.88</td>\n",
       "      <td>99518.75</td>\n",
       "      <td>99304.00</td>\n",
       "      <td>99350.00</td>\n",
       "      <td>495.32597</td>\n",
       "      <td>1</td>\n",
       "      <td>1.003334</td>\n",
       "      <td>-33007.238978</td>\n",
       "      <td>-33637.124963</td>\n",
       "      <td>0.00</td>\n",
       "    </tr>\n",
       "    <tr>\n",
       "      <th>64065</th>\n",
       "      <td>2024-12-07 14:00:00</td>\n",
       "      <td>99350.00</td>\n",
       "      <td>99779.34</td>\n",
       "      <td>99036.01</td>\n",
       "      <td>99465.30</td>\n",
       "      <td>738.05732</td>\n",
       "      <td>0</td>\n",
       "      <td>1.003334</td>\n",
       "      <td>-33110.070948</td>\n",
       "      <td>-33631.518443</td>\n",
       "      <td>-0.25</td>\n",
       "    </tr>\n",
       "    <tr>\n",
       "      <th>64066</th>\n",
       "      <td>2024-12-07 15:00:00</td>\n",
       "      <td>99465.30</td>\n",
       "      <td>99800.00</td>\n",
       "      <td>99336.00</td>\n",
       "      <td>99756.01</td>\n",
       "      <td>753.80096</td>\n",
       "      <td>-1</td>\n",
       "      <td>1.003334</td>\n",
       "      <td>-33396.384504</td>\n",
       "      <td>-33627.987240</td>\n",
       "      <td>-0.25</td>\n",
       "    </tr>\n",
       "    <tr>\n",
       "      <th>64067</th>\n",
       "      <td>2024-12-07 16:00:00</td>\n",
       "      <td>99756.00</td>\n",
       "      <td>99799.99</td>\n",
       "      <td>99476.62</td>\n",
       "      <td>99621.56</td>\n",
       "      <td>503.91810</td>\n",
       "      <td>1</td>\n",
       "      <td>1.006191</td>\n",
       "      <td>-33280.619906</td>\n",
       "      <td>-33624.887335</td>\n",
       "      <td>0.00</td>\n",
       "    </tr>\n",
       "    <tr>\n",
       "      <th>64068</th>\n",
       "      <td>2024-12-07 17:00:00</td>\n",
       "      <td>99621.57</td>\n",
       "      <td>99717.80</td>\n",
       "      <td>99460.37</td>\n",
       "      <td>99631.97</td>\n",
       "      <td>416.16617</td>\n",
       "      <td>0</td>\n",
       "      <td>1.006191</td>\n",
       "      <td>-33265.369180</td>\n",
       "      <td>-33621.953585</td>\n",
       "      <td>0.00</td>\n",
       "    </tr>\n",
       "    <tr>\n",
       "      <th>64069</th>\n",
       "      <td>2024-12-07 18:00:00</td>\n",
       "      <td>99631.98</td>\n",
       "      <td>100263.64</td>\n",
       "      <td>99582.35</td>\n",
       "      <td>100123.32</td>\n",
       "      <td>722.02580</td>\n",
       "      <td>0</td>\n",
       "      <td>1.006191</td>\n",
       "      <td>-33731.348275</td>\n",
       "      <td>-33623.894530</td>\n",
       "      <td>-0.75</td>\n",
       "    </tr>\n",
       "    <tr>\n",
       "      <th>64070</th>\n",
       "      <td>2024-12-07 19:00:00</td>\n",
       "      <td>100123.32</td>\n",
       "      <td>100262.35</td>\n",
       "      <td>99920.31</td>\n",
       "      <td>100077.45</td>\n",
       "      <td>615.47471</td>\n",
       "      <td>0</td>\n",
       "      <td>1.006191</td>\n",
       "      <td>-33717.540344</td>\n",
       "      <td>-33629.461471</td>\n",
       "      <td>0.50</td>\n",
       "    </tr>\n",
       "    <tr>\n",
       "      <th>64071</th>\n",
       "      <td>2024-12-07 20:00:00</td>\n",
       "      <td>100077.45</td>\n",
       "      <td>100380.72</td>\n",
       "      <td>100077.45</td>\n",
       "      <td>100313.57</td>\n",
       "      <td>439.41032</td>\n",
       "      <td>-1</td>\n",
       "      <td>1.006191</td>\n",
       "      <td>-33923.198731</td>\n",
       "      <td>-33639.888675</td>\n",
       "      <td>0.00</td>\n",
       "    </tr>\n",
       "    <tr>\n",
       "      <th>64072</th>\n",
       "      <td>2024-12-07 21:00:00</td>\n",
       "      <td>100313.57</td>\n",
       "      <td>100439.18</td>\n",
       "      <td>99700.00</td>\n",
       "      <td>99869.80</td>\n",
       "      <td>527.22024</td>\n",
       "      <td>0</td>\n",
       "      <td>1.000000</td>\n",
       "      <td>-33501.297282</td>\n",
       "      <td>-33649.692658</td>\n",
       "      <td>1.00</td>\n",
       "    </tr>\n",
       "    <tr>\n",
       "      <th>64073</th>\n",
       "      <td>2024-12-07 22:00:00</td>\n",
       "      <td>99869.81</td>\n",
       "      <td>100046.92</td>\n",
       "      <td>99595.11</td>\n",
       "      <td>99595.11</td>\n",
       "      <td>408.98144</td>\n",
       "      <td>1</td>\n",
       "      <td>1.004786</td>\n",
       "      <td>-33190.760577</td>\n",
       "      <td>-33655.716167</td>\n",
       "      <td>0.50</td>\n",
       "    </tr>\n",
       "    <tr>\n",
       "      <th>64074</th>\n",
       "      <td>2024-12-07 23:00:00</td>\n",
       "      <td>99595.12</td>\n",
       "      <td>100259.00</td>\n",
       "      <td>99595.11</td>\n",
       "      <td>99831.99</td>\n",
       "      <td>541.97011</td>\n",
       "      <td>0</td>\n",
       "      <td>1.004786</td>\n",
       "      <td>-33400.144273</td>\n",
       "      <td>-33660.826556</td>\n",
       "      <td>0.00</td>\n",
       "    </tr>\n",
       "    <tr>\n",
       "      <th>64075</th>\n",
       "      <td>2024-12-08 00:00:00</td>\n",
       "      <td>99595.12</td>\n",
       "      <td>100259.00</td>\n",
       "      <td>99595.11</td>\n",
       "      <td>99831.99</td>\n",
       "      <td>541.97011</td>\n",
       "      <td>0</td>\n",
       "      <td>1.004786</td>\n",
       "      <td>-33423.819797</td>\n",
       "      <td>-33665.382740</td>\n",
       "      <td>0.00</td>\n",
       "    </tr>\n",
       "    <tr>\n",
       "      <th>64076</th>\n",
       "      <td>2024-12-08 01:00:00</td>\n",
       "      <td>99978.38</td>\n",
       "      <td>100128.00</td>\n",
       "      <td>99669.01</td>\n",
       "      <td>99848.36</td>\n",
       "      <td>390.67541</td>\n",
       "      <td>0</td>\n",
       "      <td>1.004786</td>\n",
       "      <td>-33432.615743</td>\n",
       "      <td>-33669.519009</td>\n",
       "      <td>0.00</td>\n",
       "    </tr>\n",
       "    <tr>\n",
       "      <th>64077</th>\n",
       "      <td>2024-12-08 02:00:00</td>\n",
       "      <td>99848.35</td>\n",
       "      <td>100328.88</td>\n",
       "      <td>99750.17</td>\n",
       "      <td>100146.90</td>\n",
       "      <td>590.34251</td>\n",
       "      <td>-1</td>\n",
       "      <td>1.004786</td>\n",
       "      <td>-33712.219395</td>\n",
       "      <td>-33676.111573</td>\n",
       "      <td>-0.75</td>\n",
       "    </tr>\n",
       "    <tr>\n",
       "      <th>64078</th>\n",
       "      <td>2024-12-08 03:00:00</td>\n",
       "      <td>100146.91</td>\n",
       "      <td>100260.00</td>\n",
       "      <td>99912.00</td>\n",
       "      <td>99934.82</td>\n",
       "      <td>322.49487</td>\n",
       "      <td>0</td>\n",
       "      <td>1.000000</td>\n",
       "      <td>-33521.831149</td>\n",
       "      <td>-33682.594188</td>\n",
       "      <td>1.00</td>\n",
       "    </tr>\n",
       "    <tr>\n",
       "      <th>64079</th>\n",
       "      <td>2024-12-08 04:00:00</td>\n",
       "      <td>99934.83</td>\n",
       "      <td>100030.00</td>\n",
       "      <td>99694.66</td>\n",
       "      <td>99756.01</td>\n",
       "      <td>483.49842</td>\n",
       "      <td>0</td>\n",
       "      <td>1.000000</td>\n",
       "      <td>-33319.232831</td>\n",
       "      <td>-33686.830695</td>\n",
       "      <td>0.50</td>\n",
       "    </tr>\n",
       "    <tr>\n",
       "      <th>64080</th>\n",
       "      <td>2024-12-08 05:00:00</td>\n",
       "      <td>99756.00</td>\n",
       "      <td>99783.56</td>\n",
       "      <td>99370.00</td>\n",
       "      <td>99534.26</td>\n",
       "      <td>431.31034</td>\n",
       "      <td>1</td>\n",
       "      <td>1.000673</td>\n",
       "      <td>-33086.720272</td>\n",
       "      <td>-33686.858653</td>\n",
       "      <td>0.50</td>\n",
       "    </tr>\n",
       "    <tr>\n",
       "      <th>64081</th>\n",
       "      <td>2024-12-08 06:00:00</td>\n",
       "      <td>99534.26</td>\n",
       "      <td>99803.32</td>\n",
       "      <td>99336.00</td>\n",
       "      <td>99675.96</td>\n",
       "      <td>397.06249</td>\n",
       "      <td>-1</td>\n",
       "      <td>1.000673</td>\n",
       "      <td>-33206.521302</td>\n",
       "      <td>-33684.773440</td>\n",
       "      <td>-0.25</td>\n",
       "    </tr>\n",
       "    <tr>\n",
       "      <th>64082</th>\n",
       "      <td>2024-12-08 07:00:00</td>\n",
       "      <td>99675.97</td>\n",
       "      <td>99863.35</td>\n",
       "      <td>99632.61</td>\n",
       "      <td>99675.11</td>\n",
       "      <td>278.48465</td>\n",
       "      <td>0</td>\n",
       "      <td>1.000000</td>\n",
       "      <td>-33218.290845</td>\n",
       "      <td>-33681.132108</td>\n",
       "      <td>-0.25</td>\n",
       "    </tr>\n",
       "    <tr>\n",
       "      <th>64083</th>\n",
       "      <td>2024-12-08 08:00:00</td>\n",
       "      <td>99675.11</td>\n",
       "      <td>99687.85</td>\n",
       "      <td>98964.00</td>\n",
       "      <td>98980.01</td>\n",
       "      <td>668.22137</td>\n",
       "      <td>0</td>\n",
       "      <td>1.000000</td>\n",
       "      <td>-32542.359267</td>\n",
       "      <td>-33669.357736</td>\n",
       "      <td>0.00</td>\n",
       "    </tr>\n",
       "    <tr>\n",
       "      <th>64084</th>\n",
       "      <td>2024-12-08 09:00:00</td>\n",
       "      <td>98980.02</td>\n",
       "      <td>99300.00</td>\n",
       "      <td>98657.70</td>\n",
       "      <td>98884.02</td>\n",
       "      <td>890.41696</td>\n",
       "      <td>1</td>\n",
       "      <td>1.014658</td>\n",
       "      <td>-32390.170595</td>\n",
       "      <td>-33649.710456</td>\n",
       "      <td>0.00</td>\n",
       "    </tr>\n",
       "    <tr>\n",
       "      <th>64085</th>\n",
       "      <td>2024-12-08 10:00:00</td>\n",
       "      <td>98884.03</td>\n",
       "      <td>99409.02</td>\n",
       "      <td>98876.00</td>\n",
       "      <td>99249.22</td>\n",
       "      <td>525.53622</td>\n",
       "      <td>0</td>\n",
       "      <td>1.014658</td>\n",
       "      <td>-32744.264342</td>\n",
       "      <td>-33627.632093</td>\n",
       "      <td>-0.25</td>\n",
       "    </tr>\n",
       "    <tr>\n",
       "      <th>64086</th>\n",
       "      <td>2024-12-08 11:00:00</td>\n",
       "      <td>99249.21</td>\n",
       "      <td>99844.28</td>\n",
       "      <td>99124.01</td>\n",
       "      <td>99701.16</td>\n",
       "      <td>473.22138</td>\n",
       "      <td>0</td>\n",
       "      <td>1.014658</td>\n",
       "      <td>-33211.302128</td>\n",
       "      <td>-33608.565182</td>\n",
       "      <td>-0.25</td>\n",
       "    </tr>\n",
       "    <tr>\n",
       "      <th>64087</th>\n",
       "      <td>2024-12-08 12:00:00</td>\n",
       "      <td>99701.17</td>\n",
       "      <td>100200.00</td>\n",
       "      <td>99452.00</td>\n",
       "      <td>99922.48</td>\n",
       "      <td>766.06693</td>\n",
       "      <td>0</td>\n",
       "      <td>1.014658</td>\n",
       "      <td>-33445.237503</td>\n",
       "      <td>-33594.372822</td>\n",
       "      <td>-0.25</td>\n",
       "    </tr>\n",
       "    <tr>\n",
       "      <th>64088</th>\n",
       "      <td>2024-12-08 13:00:00</td>\n",
       "      <td>99922.49</td>\n",
       "      <td>100500.00</td>\n",
       "      <td>99803.80</td>\n",
       "      <td>100408.80</td>\n",
       "      <td>993.73135</td>\n",
       "      <td>-1</td>\n",
       "      <td>1.014658</td>\n",
       "      <td>-33906.636333</td>\n",
       "      <td>-33588.801780</td>\n",
       "      <td>-0.75</td>\n",
       "    </tr>\n",
       "    <tr>\n",
       "      <th>64089</th>\n",
       "      <td>2024-12-08 14:00:00</td>\n",
       "      <td>100408.79</td>\n",
       "      <td>100426.10</td>\n",
       "      <td>99724.75</td>\n",
       "      <td>99726.73</td>\n",
       "      <td>784.39963</td>\n",
       "      <td>1</td>\n",
       "      <td>1.001107</td>\n",
       "      <td>-33265.439067</td>\n",
       "      <td>-33583.455016</td>\n",
       "      <td>1.00</td>\n",
       "    </tr>\n",
       "    <tr>\n",
       "      <th>64090</th>\n",
       "      <td>2024-12-08 15:00:00</td>\n",
       "      <td>99726.72</td>\n",
       "      <td>99964.63</td>\n",
       "      <td>99357.16</td>\n",
       "      <td>99912.01</td>\n",
       "      <td>844.24534</td>\n",
       "      <td>-1</td>\n",
       "      <td>1.001107</td>\n",
       "      <td>-33369.862263</td>\n",
       "      <td>-33579.364580</td>\n",
       "      <td>-0.25</td>\n",
       "    </tr>\n",
       "    <tr>\n",
       "      <th>64091</th>\n",
       "      <td>2024-12-08 16:00:00</td>\n",
       "      <td>99912.01</td>\n",
       "      <td>100142.85</td>\n",
       "      <td>99733.15</td>\n",
       "      <td>99832.96</td>\n",
       "      <td>648.81492</td>\n",
       "      <td>1</td>\n",
       "      <td>1.000361</td>\n",
       "      <td>-33310.749181</td>\n",
       "      <td>-33575.659190</td>\n",
       "      <td>0.00</td>\n",
       "    </tr>\n",
       "    <tr>\n",
       "      <th>64092</th>\n",
       "      <td>2024-12-08 17:00:00</td>\n",
       "      <td>99832.97</td>\n",
       "      <td>100000.00</td>\n",
       "      <td>99628.01</td>\n",
       "      <td>99943.98</td>\n",
       "      <td>477.73217</td>\n",
       "      <td>-1</td>\n",
       "      <td>1.000361</td>\n",
       "      <td>-33409.416990</td>\n",
       "      <td>-33573.265110</td>\n",
       "      <td>-0.25</td>\n",
       "    </tr>\n",
       "    <tr>\n",
       "      <th>64093</th>\n",
       "      <td>2024-12-08 18:00:00</td>\n",
       "      <td>99943.99</td>\n",
       "      <td>100016.00</td>\n",
       "      <td>99563.83</td>\n",
       "      <td>99660.98</td>\n",
       "      <td>561.37841</td>\n",
       "      <td>1</td>\n",
       "      <td>1.003662</td>\n",
       "      <td>-33140.887234</td>\n",
       "      <td>-33569.146577</td>\n",
       "      <td>0.00</td>\n",
       "    </tr>\n",
       "    <tr>\n",
       "      <th>64094</th>\n",
       "      <td>2024-12-08 19:00:00</td>\n",
       "      <td>99660.99</td>\n",
       "      <td>100198.00</td>\n",
       "      <td>99480.00</td>\n",
       "      <td>100100.98</td>\n",
       "      <td>531.70789</td>\n",
       "      <td>-1</td>\n",
       "      <td>1.003662</td>\n",
       "      <td>-33535.204400</td>\n",
       "      <td>-33567.710169</td>\n",
       "      <td>-0.25</td>\n",
       "    </tr>\n",
       "    <tr>\n",
       "      <th>64095</th>\n",
       "      <td>2024-12-08 20:00:00</td>\n",
       "      <td>100100.99</td>\n",
       "      <td>100156.00</td>\n",
       "      <td>99800.00</td>\n",
       "      <td>99800.01</td>\n",
       "      <td>402.06692</td>\n",
       "      <td>1</td>\n",
       "      <td>1.003455</td>\n",
       "      <td>-33276.883535</td>\n",
       "      <td>-33565.721828</td>\n",
       "      <td>0.00</td>\n",
       "    </tr>\n",
       "    <tr>\n",
       "      <th>64096</th>\n",
       "      <td>2024-12-08 21:00:00</td>\n",
       "      <td>99800.01</td>\n",
       "      <td>100058.83</td>\n",
       "      <td>99736.06</td>\n",
       "      <td>100026.97</td>\n",
       "      <td>359.99203</td>\n",
       "      <td>0</td>\n",
       "      <td>1.003455</td>\n",
       "      <td>-33459.031608</td>\n",
       "      <td>-33565.150809</td>\n",
       "      <td>-0.25</td>\n",
       "    </tr>\n",
       "    <tr>\n",
       "      <th>64097</th>\n",
       "      <td>2024-12-08 22:00:00</td>\n",
       "      <td>100026.98</td>\n",
       "      <td>100274.44</td>\n",
       "      <td>99879.21</td>\n",
       "      <td>100220.01</td>\n",
       "      <td>504.28845</td>\n",
       "      <td>-1</td>\n",
       "      <td>1.003455</td>\n",
       "      <td>-33657.170601</td>\n",
       "      <td>-33567.693817</td>\n",
       "      <td>-0.75</td>\n",
       "    </tr>\n",
       "    <tr>\n",
       "      <th>64098</th>\n",
       "      <td>2024-12-08 23:00:00</td>\n",
       "      <td>100220.01</td>\n",
       "      <td>101351.00</td>\n",
       "      <td>100088.98</td>\n",
       "      <td>101109.59</td>\n",
       "      <td>1902.60649</td>\n",
       "      <td>0</td>\n",
       "      <td>1.000000</td>\n",
       "      <td>-34518.518819</td>\n",
       "      <td>-33581.433280</td>\n",
       "      <td>0.00</td>\n",
       "    </tr>\n",
       "  </tbody>\n",
       "</table>\n",
       "</div>"
      ],
      "text/plain": [
       "                    Opened       Open       High        Low      Close  \\\n",
       "64049  2024-12-06 22:00:00  100372.01  100707.37  100357.68  100504.00   \n",
       "64050  2024-12-06 23:00:00  100504.00  100573.99   99053.03   99740.84   \n",
       "64051  2024-12-07 00:00:00  100504.00  100573.99   99053.03   99740.84   \n",
       "64052  2024-12-07 01:00:00  100272.01  100428.00   99824.62  100044.31   \n",
       "64053  2024-12-07 02:00:00  100044.31  100169.42   99868.00   99930.01   \n",
       "64054  2024-12-07 03:00:00   99930.01   99930.01   99285.71   99299.63   \n",
       "64055  2024-12-07 04:00:00   99299.64   99666.31   99025.01   99494.57   \n",
       "64056  2024-12-07 05:00:00   99494.58   99643.96   98844.00   99155.98   \n",
       "64057  2024-12-07 06:00:00   99155.99   99393.60   99060.12   99336.27   \n",
       "64058  2024-12-07 07:00:00   99336.28   99494.19   99108.00   99405.20   \n",
       "64059  2024-12-07 08:00:00   99405.20   99561.44   99260.00   99414.76   \n",
       "64060  2024-12-07 09:00:00   99414.76   99821.83   99414.75   99676.48   \n",
       "64061  2024-12-07 10:00:00   99676.48   99708.43   99440.00   99529.50   \n",
       "64062  2024-12-07 11:00:00   99529.50   99750.00   99421.53   99620.00   \n",
       "64063  2024-12-07 12:00:00   99620.00   99703.55   99364.00   99426.87   \n",
       "64064  2024-12-07 13:00:00   99426.88   99518.75   99304.00   99350.00   \n",
       "64065  2024-12-07 14:00:00   99350.00   99779.34   99036.01   99465.30   \n",
       "64066  2024-12-07 15:00:00   99465.30   99800.00   99336.00   99756.01   \n",
       "64067  2024-12-07 16:00:00   99756.00   99799.99   99476.62   99621.56   \n",
       "64068  2024-12-07 17:00:00   99621.57   99717.80   99460.37   99631.97   \n",
       "64069  2024-12-07 18:00:00   99631.98  100263.64   99582.35  100123.32   \n",
       "64070  2024-12-07 19:00:00  100123.32  100262.35   99920.31  100077.45   \n",
       "64071  2024-12-07 20:00:00  100077.45  100380.72  100077.45  100313.57   \n",
       "64072  2024-12-07 21:00:00  100313.57  100439.18   99700.00   99869.80   \n",
       "64073  2024-12-07 22:00:00   99869.81  100046.92   99595.11   99595.11   \n",
       "64074  2024-12-07 23:00:00   99595.12  100259.00   99595.11   99831.99   \n",
       "64075  2024-12-08 00:00:00   99595.12  100259.00   99595.11   99831.99   \n",
       "64076  2024-12-08 01:00:00   99978.38  100128.00   99669.01   99848.36   \n",
       "64077  2024-12-08 02:00:00   99848.35  100328.88   99750.17  100146.90   \n",
       "64078  2024-12-08 03:00:00  100146.91  100260.00   99912.00   99934.82   \n",
       "64079  2024-12-08 04:00:00   99934.83  100030.00   99694.66   99756.01   \n",
       "64080  2024-12-08 05:00:00   99756.00   99783.56   99370.00   99534.26   \n",
       "64081  2024-12-08 06:00:00   99534.26   99803.32   99336.00   99675.96   \n",
       "64082  2024-12-08 07:00:00   99675.97   99863.35   99632.61   99675.11   \n",
       "64083  2024-12-08 08:00:00   99675.11   99687.85   98964.00   98980.01   \n",
       "64084  2024-12-08 09:00:00   98980.02   99300.00   98657.70   98884.02   \n",
       "64085  2024-12-08 10:00:00   98884.03   99409.02   98876.00   99249.22   \n",
       "64086  2024-12-08 11:00:00   99249.21   99844.28   99124.01   99701.16   \n",
       "64087  2024-12-08 12:00:00   99701.17  100200.00   99452.00   99922.48   \n",
       "64088  2024-12-08 13:00:00   99922.49  100500.00   99803.80  100408.80   \n",
       "64089  2024-12-08 14:00:00  100408.79  100426.10   99724.75   99726.73   \n",
       "64090  2024-12-08 15:00:00   99726.72   99964.63   99357.16   99912.01   \n",
       "64091  2024-12-08 16:00:00   99912.01  100142.85   99733.15   99832.96   \n",
       "64092  2024-12-08 17:00:00   99832.97  100000.00   99628.01   99943.98   \n",
       "64093  2024-12-08 18:00:00   99943.99  100016.00   99563.83   99660.98   \n",
       "64094  2024-12-08 19:00:00   99660.99  100198.00   99480.00  100100.98   \n",
       "64095  2024-12-08 20:00:00  100100.99  100156.00   99800.00   99800.01   \n",
       "64096  2024-12-08 21:00:00   99800.01  100058.83   99736.06  100026.97   \n",
       "64097  2024-12-08 22:00:00  100026.98  100274.44   99879.21  100220.01   \n",
       "64098  2024-12-08 23:00:00  100220.01  101351.00  100088.98  101109.59   \n",
       "\n",
       "           Volume  Action    Weight          MACD   MACD_Signal  Signal  \n",
       "64049   695.79652      -1  1.000564 -34215.794407 -33397.981318    0.00  \n",
       "64050  1999.91146       1  1.002290 -33512.088390 -33447.808106    0.50  \n",
       "64051  1999.91146       0  1.002290 -33461.729853 -33490.595745    1.00  \n",
       "64052   666.65588      -1  1.002290 -33768.432861 -33530.603879   -0.75  \n",
       "64053   423.24483       0  1.000000 -33684.050182 -33567.199012    0.50  \n",
       "64054   800.94309       1  1.001212 -33055.556770 -33594.351790    1.00  \n",
       "64055   859.54997      -1  1.001212 -33187.212434 -33615.177054    0.00  \n",
       "64056   909.81086       1  1.004495 -32883.822654 -33627.723528    0.50  \n",
       "64057   808.71363       0  1.004495 -33029.189234 -33635.113494    0.00  \n",
       "64058   675.92852       0  1.004495 -33109.441689 -33639.172374    0.00  \n",
       "64059   498.53222       0  1.004495 -33116.015762 -33640.606338    0.00  \n",
       "64060   558.38011      -1  1.004495 -33358.084549 -33642.397273    0.00  \n",
       "64061   795.39219       1  1.000159 -33226.891529 -33643.067408    0.50  \n",
       "64062   437.99027      -1  1.000159 -33289.218266 -33643.444809    0.00  \n",
       "64063   421.89864       0  1.000000 -33103.163805 -33641.643869    0.00  \n",
       "64064   495.32597       1  1.003334 -33007.238978 -33637.124963    0.00  \n",
       "64065   738.05732       0  1.003334 -33110.070948 -33631.518443   -0.25  \n",
       "64066   753.80096      -1  1.003334 -33396.384504 -33627.987240   -0.25  \n",
       "64067   503.91810       1  1.006191 -33280.619906 -33624.887335    0.00  \n",
       "64068   416.16617       0  1.006191 -33265.369180 -33621.953585    0.00  \n",
       "64069   722.02580       0  1.006191 -33731.348275 -33623.894530   -0.75  \n",
       "64070   615.47471       0  1.006191 -33717.540344 -33629.461471    0.50  \n",
       "64071   439.41032      -1  1.006191 -33923.198731 -33639.888675    0.00  \n",
       "64072   527.22024       0  1.000000 -33501.297282 -33649.692658    1.00  \n",
       "64073   408.98144       1  1.004786 -33190.760577 -33655.716167    0.50  \n",
       "64074   541.97011       0  1.004786 -33400.144273 -33660.826556    0.00  \n",
       "64075   541.97011       0  1.004786 -33423.819797 -33665.382740    0.00  \n",
       "64076   390.67541       0  1.004786 -33432.615743 -33669.519009    0.00  \n",
       "64077   590.34251      -1  1.004786 -33712.219395 -33676.111573   -0.75  \n",
       "64078   322.49487       0  1.000000 -33521.831149 -33682.594188    1.00  \n",
       "64079   483.49842       0  1.000000 -33319.232831 -33686.830695    0.50  \n",
       "64080   431.31034       1  1.000673 -33086.720272 -33686.858653    0.50  \n",
       "64081   397.06249      -1  1.000673 -33206.521302 -33684.773440   -0.25  \n",
       "64082   278.48465       0  1.000000 -33218.290845 -33681.132108   -0.25  \n",
       "64083   668.22137       0  1.000000 -32542.359267 -33669.357736    0.00  \n",
       "64084   890.41696       1  1.014658 -32390.170595 -33649.710456    0.00  \n",
       "64085   525.53622       0  1.014658 -32744.264342 -33627.632093   -0.25  \n",
       "64086   473.22138       0  1.014658 -33211.302128 -33608.565182   -0.25  \n",
       "64087   766.06693       0  1.014658 -33445.237503 -33594.372822   -0.25  \n",
       "64088   993.73135      -1  1.014658 -33906.636333 -33588.801780   -0.75  \n",
       "64089   784.39963       1  1.001107 -33265.439067 -33583.455016    1.00  \n",
       "64090   844.24534      -1  1.001107 -33369.862263 -33579.364580   -0.25  \n",
       "64091   648.81492       1  1.000361 -33310.749181 -33575.659190    0.00  \n",
       "64092   477.73217      -1  1.000361 -33409.416990 -33573.265110   -0.25  \n",
       "64093   561.37841       1  1.003662 -33140.887234 -33569.146577    0.00  \n",
       "64094   531.70789      -1  1.003662 -33535.204400 -33567.710169   -0.25  \n",
       "64095   402.06692       1  1.003455 -33276.883535 -33565.721828    0.00  \n",
       "64096   359.99203       0  1.003455 -33459.031608 -33565.150809   -0.25  \n",
       "64097   504.28845      -1  1.003455 -33657.170601 -33567.693817   -0.75  \n",
       "64098  1902.60649       0  1.000000 -34518.518819 -33581.433280    0.00  "
      ]
     },
     "execution_count": 171,
     "metadata": {},
     "output_type": "execute_result"
    }
   ],
   "source": [
    "df_plot"
   ]
  },
  {
   "cell_type": "code",
   "execution_count": 173,
   "id": "1b1520d5-21d2-4e7e-9d97-91e6af5097dd",
   "metadata": {},
   "outputs": [
    {
     "data": {
      "application/vnd.plotly.v1+json": {
       "config": {
        "plotlyServerURL": "https://plot.ly"
       },
       "data": [
        {
         "close": [
          100504,
          99740.84,
          99740.84,
          100044.31,
          99930.01,
          99299.63,
          99494.57,
          99155.98,
          99336.27,
          99405.2,
          99414.76,
          99676.48,
          99529.5,
          99620,
          99426.87,
          99350,
          99465.3,
          99756.01,
          99621.56,
          99631.97,
          100123.32,
          100077.45,
          100313.57,
          99869.8,
          99595.11,
          99831.99,
          99831.99,
          99848.36,
          100146.9,
          99934.82,
          99756.01,
          99534.26,
          99675.96,
          99675.11,
          98980.01,
          98884.02,
          99249.22,
          99701.16,
          99922.48,
          100408.8,
          99726.73,
          99912.01,
          99832.96,
          99943.98,
          99660.98,
          100100.98,
          99800.01,
          100026.97,
          100220.01,
          101109.59
         ],
         "high": [
          100707.37,
          100573.99,
          100573.99,
          100428,
          100169.42,
          99930.01,
          99666.31,
          99643.96,
          99393.6,
          99494.19,
          99561.44,
          99821.83,
          99708.43,
          99750,
          99703.55,
          99518.75,
          99779.34,
          99800,
          99799.99,
          99717.8,
          100263.64,
          100262.35,
          100380.72,
          100439.18,
          100046.92,
          100259,
          100259,
          100128,
          100328.88,
          100260,
          100030,
          99783.56,
          99803.32,
          99863.35,
          99687.85,
          99300,
          99409.02,
          99844.28,
          100200,
          100500,
          100426.1,
          99964.63,
          100142.85,
          100000,
          100016,
          100198,
          100156,
          100058.83,
          100274.44,
          101351
         ],
         "low": [
          100357.68,
          99053.03,
          99053.03,
          99824.62,
          99868,
          99285.71,
          99025.01,
          98844,
          99060.12,
          99108,
          99260,
          99414.75,
          99440,
          99421.53,
          99364,
          99304,
          99036.01,
          99336,
          99476.62,
          99460.37,
          99582.35,
          99920.31,
          100077.45,
          99700,
          99595.11,
          99595.11,
          99595.11,
          99669.01,
          99750.17,
          99912,
          99694.66,
          99370,
          99336,
          99632.61,
          98964,
          98657.7,
          98876,
          99124.01,
          99452,
          99803.8,
          99724.75,
          99357.16,
          99733.15,
          99628.01,
          99563.83,
          99480,
          99800,
          99736.06,
          99879.21,
          100088.98
         ],
         "name": "Kurs",
         "open": [
          100372.01,
          100504,
          100504,
          100272.01,
          100044.31,
          99930.01,
          99299.64,
          99494.58,
          99155.99,
          99336.28,
          99405.2,
          99414.76,
          99676.48,
          99529.5,
          99620,
          99426.88,
          99350,
          99465.3,
          99756,
          99621.57,
          99631.98,
          100123.32,
          100077.45,
          100313.57,
          99869.81,
          99595.12,
          99595.12,
          99978.38,
          99848.35,
          100146.91,
          99934.83,
          99756,
          99534.26,
          99675.97,
          99675.11,
          98980.02,
          98884.03,
          99249.21,
          99701.17,
          99922.49,
          100408.79,
          99726.72,
          99912.01,
          99832.97,
          99943.99,
          99660.99,
          100100.99,
          99800.01,
          100026.98,
          100220.01
         ],
         "type": "candlestick",
         "x": [
          "2024-12-06 22:00:00",
          "2024-12-06 23:00:00",
          "2024-12-07 00:00:00",
          "2024-12-07 01:00:00",
          "2024-12-07 02:00:00",
          "2024-12-07 03:00:00",
          "2024-12-07 04:00:00",
          "2024-12-07 05:00:00",
          "2024-12-07 06:00:00",
          "2024-12-07 07:00:00",
          "2024-12-07 08:00:00",
          "2024-12-07 09:00:00",
          "2024-12-07 10:00:00",
          "2024-12-07 11:00:00",
          "2024-12-07 12:00:00",
          "2024-12-07 13:00:00",
          "2024-12-07 14:00:00",
          "2024-12-07 15:00:00",
          "2024-12-07 16:00:00",
          "2024-12-07 17:00:00",
          "2024-12-07 18:00:00",
          "2024-12-07 19:00:00",
          "2024-12-07 20:00:00",
          "2024-12-07 21:00:00",
          "2024-12-07 22:00:00",
          "2024-12-07 23:00:00",
          "2024-12-08 00:00:00",
          "2024-12-08 01:00:00",
          "2024-12-08 02:00:00",
          "2024-12-08 03:00:00",
          "2024-12-08 04:00:00",
          "2024-12-08 05:00:00",
          "2024-12-08 06:00:00",
          "2024-12-08 07:00:00",
          "2024-12-08 08:00:00",
          "2024-12-08 09:00:00",
          "2024-12-08 10:00:00",
          "2024-12-08 11:00:00",
          "2024-12-08 12:00:00",
          "2024-12-08 13:00:00",
          "2024-12-08 14:00:00",
          "2024-12-08 15:00:00",
          "2024-12-08 16:00:00",
          "2024-12-08 17:00:00",
          "2024-12-08 18:00:00",
          "2024-12-08 19:00:00",
          "2024-12-08 20:00:00",
          "2024-12-08 21:00:00",
          "2024-12-08 22:00:00",
          "2024-12-08 23:00:00"
         ],
         "xaxis": "x",
         "yaxis": "y"
        },
        {
         "marker": {
          "color": "green",
          "size": 12,
          "symbol": "triangle-up"
         },
         "mode": "markers",
         "name": "Sygnał Kupna",
         "type": "scatter",
         "x": [
          "2024-12-06 23:00:00",
          "2024-12-07 00:00:00",
          "2024-12-07 02:00:00",
          "2024-12-07 03:00:00",
          "2024-12-07 05:00:00",
          "2024-12-07 10:00:00",
          "2024-12-07 19:00:00",
          "2024-12-07 21:00:00",
          "2024-12-07 22:00:00",
          "2024-12-08 03:00:00",
          "2024-12-08 04:00:00",
          "2024-12-08 05:00:00",
          "2024-12-08 14:00:00"
         ],
         "xaxis": "x",
         "y": [
          99740.84,
          99740.84,
          99930.01,
          99299.63,
          99155.98,
          99529.5,
          100077.45,
          99869.8,
          99595.11,
          99934.82,
          99756.01,
          99534.26,
          99726.73
         ],
         "yaxis": "y"
        },
        {
         "marker": {
          "color": "red",
          "size": 12,
          "symbol": "triangle-down"
         },
         "mode": "markers",
         "name": "Sygnał Sprzedaży",
         "type": "scatter",
         "x": [
          "2024-12-07 01:00:00",
          "2024-12-07 14:00:00",
          "2024-12-07 15:00:00",
          "2024-12-07 18:00:00",
          "2024-12-08 02:00:00",
          "2024-12-08 06:00:00",
          "2024-12-08 07:00:00",
          "2024-12-08 10:00:00",
          "2024-12-08 11:00:00",
          "2024-12-08 12:00:00",
          "2024-12-08 13:00:00",
          "2024-12-08 15:00:00",
          "2024-12-08 17:00:00",
          "2024-12-08 19:00:00",
          "2024-12-08 21:00:00",
          "2024-12-08 22:00:00"
         ],
         "xaxis": "x",
         "y": [
          100044.31,
          99465.3,
          99756.01,
          100123.32,
          100146.9,
          99675.96,
          99675.11,
          99249.22,
          99701.16,
          99922.48,
          100408.8,
          99912.01,
          99943.98,
          100100.98,
          100026.97,
          100220.01
         ],
         "yaxis": "y"
        },
        {
         "line": {
          "color": "blue"
         },
         "mode": "lines",
         "name": "MACD",
         "type": "scatter",
         "x": [
          "2024-12-06 22:00:00",
          "2024-12-06 23:00:00",
          "2024-12-07 00:00:00",
          "2024-12-07 01:00:00",
          "2024-12-07 02:00:00",
          "2024-12-07 03:00:00",
          "2024-12-07 04:00:00",
          "2024-12-07 05:00:00",
          "2024-12-07 06:00:00",
          "2024-12-07 07:00:00",
          "2024-12-07 08:00:00",
          "2024-12-07 09:00:00",
          "2024-12-07 10:00:00",
          "2024-12-07 11:00:00",
          "2024-12-07 12:00:00",
          "2024-12-07 13:00:00",
          "2024-12-07 14:00:00",
          "2024-12-07 15:00:00",
          "2024-12-07 16:00:00",
          "2024-12-07 17:00:00",
          "2024-12-07 18:00:00",
          "2024-12-07 19:00:00",
          "2024-12-07 20:00:00",
          "2024-12-07 21:00:00",
          "2024-12-07 22:00:00",
          "2024-12-07 23:00:00",
          "2024-12-08 00:00:00",
          "2024-12-08 01:00:00",
          "2024-12-08 02:00:00",
          "2024-12-08 03:00:00",
          "2024-12-08 04:00:00",
          "2024-12-08 05:00:00",
          "2024-12-08 06:00:00",
          "2024-12-08 07:00:00",
          "2024-12-08 08:00:00",
          "2024-12-08 09:00:00",
          "2024-12-08 10:00:00",
          "2024-12-08 11:00:00",
          "2024-12-08 12:00:00",
          "2024-12-08 13:00:00",
          "2024-12-08 14:00:00",
          "2024-12-08 15:00:00",
          "2024-12-08 16:00:00",
          "2024-12-08 17:00:00",
          "2024-12-08 18:00:00",
          "2024-12-08 19:00:00",
          "2024-12-08 20:00:00",
          "2024-12-08 21:00:00",
          "2024-12-08 22:00:00",
          "2024-12-08 23:00:00"
         ],
         "xaxis": "x2",
         "y": [
          -34215.794406595465,
          -33512.08839002608,
          -33461.72985307455,
          -33768.432860740824,
          -33684.050181551764,
          -33055.55676988939,
          -33187.21243401244,
          -32883.82265444688,
          -33029.18923352788,
          -33109.441688526174,
          -33116.01576171644,
          -33358.08454855782,
          -33226.89152888242,
          -33289.21826574784,
          -33103.16380463513,
          -33007.23897807908,
          -33110.07094825816,
          -33396.38450432432,
          -33280.619905624655,
          -33265.36917985692,
          -33731.34827479161,
          -33717.54034356456,
          -33923.1987314494,
          -33501.29728193852,
          -33190.760576859626,
          -33400.14427317455,
          -33423.81979738525,
          -33432.61574317585,
          -33712.219394778076,
          -33521.8311494066,
          -33319.23283133458,
          -33086.72027236121,
          -33206.52130181664,
          -33218.29084459093,
          -32542.35926673097,
          -32390.170595335076,
          -32744.264341569564,
          -33211.302127740724,
          -33445.23750265826,
          -33906.63633294245,
          -33265.43906692606,
          -33369.86226284962,
          -33310.74918077726,
          -33409.4169898471,
          -33140.88723384081,
          -33535.20439951135,
          -33276.88353547205,
          -33459.031607643425,
          -33657.17060130359,
          -34518.5188188428
         ],
         "yaxis": "y2"
        },
        {
         "line": {
          "color": "orange"
         },
         "mode": "lines",
         "name": "MACD_Signal",
         "type": "scatter",
         "x": [
          "2024-12-06 22:00:00",
          "2024-12-06 23:00:00",
          "2024-12-07 00:00:00",
          "2024-12-07 01:00:00",
          "2024-12-07 02:00:00",
          "2024-12-07 03:00:00",
          "2024-12-07 04:00:00",
          "2024-12-07 05:00:00",
          "2024-12-07 06:00:00",
          "2024-12-07 07:00:00",
          "2024-12-07 08:00:00",
          "2024-12-07 09:00:00",
          "2024-12-07 10:00:00",
          "2024-12-07 11:00:00",
          "2024-12-07 12:00:00",
          "2024-12-07 13:00:00",
          "2024-12-07 14:00:00",
          "2024-12-07 15:00:00",
          "2024-12-07 16:00:00",
          "2024-12-07 17:00:00",
          "2024-12-07 18:00:00",
          "2024-12-07 19:00:00",
          "2024-12-07 20:00:00",
          "2024-12-07 21:00:00",
          "2024-12-07 22:00:00",
          "2024-12-07 23:00:00",
          "2024-12-08 00:00:00",
          "2024-12-08 01:00:00",
          "2024-12-08 02:00:00",
          "2024-12-08 03:00:00",
          "2024-12-08 04:00:00",
          "2024-12-08 05:00:00",
          "2024-12-08 06:00:00",
          "2024-12-08 07:00:00",
          "2024-12-08 08:00:00",
          "2024-12-08 09:00:00",
          "2024-12-08 10:00:00",
          "2024-12-08 11:00:00",
          "2024-12-08 12:00:00",
          "2024-12-08 13:00:00",
          "2024-12-08 14:00:00",
          "2024-12-08 15:00:00",
          "2024-12-08 16:00:00",
          "2024-12-08 17:00:00",
          "2024-12-08 18:00:00",
          "2024-12-08 19:00:00",
          "2024-12-08 20:00:00",
          "2024-12-08 21:00:00",
          "2024-12-08 22:00:00",
          "2024-12-08 23:00:00"
         ],
         "xaxis": "x2",
         "y": [
          -33397.98131779602,
          -33447.80810570652,
          -33490.59574528349,
          -33530.60387858657,
          -33567.19901160899,
          -33594.351790155306,
          -33615.1770542097,
          -33627.72352820165,
          -33635.11349443212,
          -33639.1723736895,
          -33640.6063381358,
          -33642.39727256123,
          -33643.06740777965,
          -33643.44480933668,
          -33641.643869181724,
          -33637.124963122675,
          -33631.51844346615,
          -33627.987240439674,
          -33624.88733499902,
          -33621.95358543191,
          -33623.89452984764,
          -33629.46147085024,
          -33639.88867511535,
          -33649.692657620755,
          -33655.71616692177,
          -33660.82655627245,
          -33665.382739560184,
          -33669.519009480515,
          -33676.11157327054,
          -33682.594187884984,
          -33686.83069463299,
          -33686.858653128766,
          -33684.773440390076,
          -33681.1321083004,
          -33669.35773556988,
          -33649.7104555089,
          -33627.63209311432,
          -33608.5651820133,
          -33594.372821900564,
          -33588.80177984789,
          -33583.455016039734,
          -33579.36458027107,
          -33575.65919018686,
          -33573.265109506545,
          -33569.14657727171,
          -33567.71016869739,
          -33565.72182764525,
          -33565.15080938785,
          -33567.69381735207,
          -33581.43327958918
         ],
         "yaxis": "y2"
        },
        {
         "marker": {
          "color": "grey"
         },
         "name": "MACD Histogram",
         "opacity": 0.5,
         "type": "bar",
         "x": [
          "2024-12-06 22:00:00",
          "2024-12-06 23:00:00",
          "2024-12-07 00:00:00",
          "2024-12-07 01:00:00",
          "2024-12-07 02:00:00",
          "2024-12-07 03:00:00",
          "2024-12-07 04:00:00",
          "2024-12-07 05:00:00",
          "2024-12-07 06:00:00",
          "2024-12-07 07:00:00",
          "2024-12-07 08:00:00",
          "2024-12-07 09:00:00",
          "2024-12-07 10:00:00",
          "2024-12-07 11:00:00",
          "2024-12-07 12:00:00",
          "2024-12-07 13:00:00",
          "2024-12-07 14:00:00",
          "2024-12-07 15:00:00",
          "2024-12-07 16:00:00",
          "2024-12-07 17:00:00",
          "2024-12-07 18:00:00",
          "2024-12-07 19:00:00",
          "2024-12-07 20:00:00",
          "2024-12-07 21:00:00",
          "2024-12-07 22:00:00",
          "2024-12-07 23:00:00",
          "2024-12-08 00:00:00",
          "2024-12-08 01:00:00",
          "2024-12-08 02:00:00",
          "2024-12-08 03:00:00",
          "2024-12-08 04:00:00",
          "2024-12-08 05:00:00",
          "2024-12-08 06:00:00",
          "2024-12-08 07:00:00",
          "2024-12-08 08:00:00",
          "2024-12-08 09:00:00",
          "2024-12-08 10:00:00",
          "2024-12-08 11:00:00",
          "2024-12-08 12:00:00",
          "2024-12-08 13:00:00",
          "2024-12-08 14:00:00",
          "2024-12-08 15:00:00",
          "2024-12-08 16:00:00",
          "2024-12-08 17:00:00",
          "2024-12-08 18:00:00",
          "2024-12-08 19:00:00",
          "2024-12-08 20:00:00",
          "2024-12-08 21:00:00",
          "2024-12-08 22:00:00",
          "2024-12-08 23:00:00"
         ],
         "xaxis": "x2",
         "y": [
          -817.8130887994485,
          -64.28028431956045,
          28.865892208945297,
          -237.82898215425666,
          -116.85116994277632,
          538.7950202659194,
          427.9646201972573,
          743.9008737547701,
          605.924260904234,
          529.7306851633257,
          524.5905764193667,
          284.3127240034155,
          416.17587889722927,
          354.2265435888403,
          538.4800645465948,
          629.8859850435911,
          521.4474952079909,
          231.60273611535376,
          344.2674293743621,
          356.58440557499125,
          -107.45374494397402,
          -88.07887271431537,
          -283.31005633405584,
          148.3953756822375,
          464.9555900621417,
          260.6822830978999,
          241.5629421749327,
          236.90326630466734,
          -36.107821507539484,
          160.76303847838426,
          367.59786329841154,
          600.138380767552,
          478.25213857343624,
          462.8412637094734,
          1126.9984688389086,
          1259.539860173827,
          883.3677515447562,
          397.26305427257466,
          149.13531924230483,
          -317.83455309455894,
          318.01594911367283,
          209.50231742144388,
          264.9100094095993,
          163.8481196594439,
          428.25934343090194,
          32.505769186042016,
          288.83829217319726,
          106.11920174442639,
          -89.47678395151888,
          -937.0855392536178
         ],
         "yaxis": "y2"
        }
       ],
       "layout": {
        "annotations": [
         {
          "font": {
           "size": 16
          },
          "showarrow": false,
          "text": "Wykres Świecowy z Sygnałami Handlowymi",
          "x": 0.5,
          "xanchor": "center",
          "xref": "paper",
          "y": 1,
          "yanchor": "bottom",
          "yref": "paper"
         },
         {
          "font": {
           "size": 16
          },
          "showarrow": false,
          "text": "MACD",
          "x": 0.5,
          "xanchor": "center",
          "xref": "paper",
          "y": 0.27,
          "yanchor": "bottom",
          "yref": "paper"
         }
        ],
        "autosize": true,
        "legend": {
         "orientation": "h",
         "x": 1,
         "xanchor": "right",
         "y": 1.02,
         "yanchor": "bottom"
        },
        "template": {
         "data": {
          "bar": [
           {
            "error_x": {
             "color": "#f2f5fa"
            },
            "error_y": {
             "color": "#f2f5fa"
            },
            "marker": {
             "line": {
              "color": "rgb(17,17,17)",
              "width": 0.5
             },
             "pattern": {
              "fillmode": "overlay",
              "size": 10,
              "solidity": 0.2
             }
            },
            "type": "bar"
           }
          ],
          "barpolar": [
           {
            "marker": {
             "line": {
              "color": "rgb(17,17,17)",
              "width": 0.5
             },
             "pattern": {
              "fillmode": "overlay",
              "size": 10,
              "solidity": 0.2
             }
            },
            "type": "barpolar"
           }
          ],
          "carpet": [
           {
            "aaxis": {
             "endlinecolor": "#A2B1C6",
             "gridcolor": "#506784",
             "linecolor": "#506784",
             "minorgridcolor": "#506784",
             "startlinecolor": "#A2B1C6"
            },
            "baxis": {
             "endlinecolor": "#A2B1C6",
             "gridcolor": "#506784",
             "linecolor": "#506784",
             "minorgridcolor": "#506784",
             "startlinecolor": "#A2B1C6"
            },
            "type": "carpet"
           }
          ],
          "choropleth": [
           {
            "colorbar": {
             "outlinewidth": 0,
             "ticks": ""
            },
            "type": "choropleth"
           }
          ],
          "contour": [
           {
            "colorbar": {
             "outlinewidth": 0,
             "ticks": ""
            },
            "colorscale": [
             [
              0,
              "#0d0887"
             ],
             [
              0.1111111111111111,
              "#46039f"
             ],
             [
              0.2222222222222222,
              "#7201a8"
             ],
             [
              0.3333333333333333,
              "#9c179e"
             ],
             [
              0.4444444444444444,
              "#bd3786"
             ],
             [
              0.5555555555555556,
              "#d8576b"
             ],
             [
              0.6666666666666666,
              "#ed7953"
             ],
             [
              0.7777777777777778,
              "#fb9f3a"
             ],
             [
              0.8888888888888888,
              "#fdca26"
             ],
             [
              1,
              "#f0f921"
             ]
            ],
            "type": "contour"
           }
          ],
          "contourcarpet": [
           {
            "colorbar": {
             "outlinewidth": 0,
             "ticks": ""
            },
            "type": "contourcarpet"
           }
          ],
          "heatmap": [
           {
            "colorbar": {
             "outlinewidth": 0,
             "ticks": ""
            },
            "colorscale": [
             [
              0,
              "#0d0887"
             ],
             [
              0.1111111111111111,
              "#46039f"
             ],
             [
              0.2222222222222222,
              "#7201a8"
             ],
             [
              0.3333333333333333,
              "#9c179e"
             ],
             [
              0.4444444444444444,
              "#bd3786"
             ],
             [
              0.5555555555555556,
              "#d8576b"
             ],
             [
              0.6666666666666666,
              "#ed7953"
             ],
             [
              0.7777777777777778,
              "#fb9f3a"
             ],
             [
              0.8888888888888888,
              "#fdca26"
             ],
             [
              1,
              "#f0f921"
             ]
            ],
            "type": "heatmap"
           }
          ],
          "heatmapgl": [
           {
            "colorbar": {
             "outlinewidth": 0,
             "ticks": ""
            },
            "colorscale": [
             [
              0,
              "#0d0887"
             ],
             [
              0.1111111111111111,
              "#46039f"
             ],
             [
              0.2222222222222222,
              "#7201a8"
             ],
             [
              0.3333333333333333,
              "#9c179e"
             ],
             [
              0.4444444444444444,
              "#bd3786"
             ],
             [
              0.5555555555555556,
              "#d8576b"
             ],
             [
              0.6666666666666666,
              "#ed7953"
             ],
             [
              0.7777777777777778,
              "#fb9f3a"
             ],
             [
              0.8888888888888888,
              "#fdca26"
             ],
             [
              1,
              "#f0f921"
             ]
            ],
            "type": "heatmapgl"
           }
          ],
          "histogram": [
           {
            "marker": {
             "pattern": {
              "fillmode": "overlay",
              "size": 10,
              "solidity": 0.2
             }
            },
            "type": "histogram"
           }
          ],
          "histogram2d": [
           {
            "colorbar": {
             "outlinewidth": 0,
             "ticks": ""
            },
            "colorscale": [
             [
              0,
              "#0d0887"
             ],
             [
              0.1111111111111111,
              "#46039f"
             ],
             [
              0.2222222222222222,
              "#7201a8"
             ],
             [
              0.3333333333333333,
              "#9c179e"
             ],
             [
              0.4444444444444444,
              "#bd3786"
             ],
             [
              0.5555555555555556,
              "#d8576b"
             ],
             [
              0.6666666666666666,
              "#ed7953"
             ],
             [
              0.7777777777777778,
              "#fb9f3a"
             ],
             [
              0.8888888888888888,
              "#fdca26"
             ],
             [
              1,
              "#f0f921"
             ]
            ],
            "type": "histogram2d"
           }
          ],
          "histogram2dcontour": [
           {
            "colorbar": {
             "outlinewidth": 0,
             "ticks": ""
            },
            "colorscale": [
             [
              0,
              "#0d0887"
             ],
             [
              0.1111111111111111,
              "#46039f"
             ],
             [
              0.2222222222222222,
              "#7201a8"
             ],
             [
              0.3333333333333333,
              "#9c179e"
             ],
             [
              0.4444444444444444,
              "#bd3786"
             ],
             [
              0.5555555555555556,
              "#d8576b"
             ],
             [
              0.6666666666666666,
              "#ed7953"
             ],
             [
              0.7777777777777778,
              "#fb9f3a"
             ],
             [
              0.8888888888888888,
              "#fdca26"
             ],
             [
              1,
              "#f0f921"
             ]
            ],
            "type": "histogram2dcontour"
           }
          ],
          "mesh3d": [
           {
            "colorbar": {
             "outlinewidth": 0,
             "ticks": ""
            },
            "type": "mesh3d"
           }
          ],
          "parcoords": [
           {
            "line": {
             "colorbar": {
              "outlinewidth": 0,
              "ticks": ""
             }
            },
            "type": "parcoords"
           }
          ],
          "pie": [
           {
            "automargin": true,
            "type": "pie"
           }
          ],
          "scatter": [
           {
            "marker": {
             "line": {
              "color": "#283442"
             }
            },
            "type": "scatter"
           }
          ],
          "scatter3d": [
           {
            "line": {
             "colorbar": {
              "outlinewidth": 0,
              "ticks": ""
             }
            },
            "marker": {
             "colorbar": {
              "outlinewidth": 0,
              "ticks": ""
             }
            },
            "type": "scatter3d"
           }
          ],
          "scattercarpet": [
           {
            "marker": {
             "colorbar": {
              "outlinewidth": 0,
              "ticks": ""
             }
            },
            "type": "scattercarpet"
           }
          ],
          "scattergeo": [
           {
            "marker": {
             "colorbar": {
              "outlinewidth": 0,
              "ticks": ""
             }
            },
            "type": "scattergeo"
           }
          ],
          "scattergl": [
           {
            "marker": {
             "line": {
              "color": "#283442"
             }
            },
            "type": "scattergl"
           }
          ],
          "scattermapbox": [
           {
            "marker": {
             "colorbar": {
              "outlinewidth": 0,
              "ticks": ""
             }
            },
            "type": "scattermapbox"
           }
          ],
          "scatterpolar": [
           {
            "marker": {
             "colorbar": {
              "outlinewidth": 0,
              "ticks": ""
             }
            },
            "type": "scatterpolar"
           }
          ],
          "scatterpolargl": [
           {
            "marker": {
             "colorbar": {
              "outlinewidth": 0,
              "ticks": ""
             }
            },
            "type": "scatterpolargl"
           }
          ],
          "scatterternary": [
           {
            "marker": {
             "colorbar": {
              "outlinewidth": 0,
              "ticks": ""
             }
            },
            "type": "scatterternary"
           }
          ],
          "surface": [
           {
            "colorbar": {
             "outlinewidth": 0,
             "ticks": ""
            },
            "colorscale": [
             [
              0,
              "#0d0887"
             ],
             [
              0.1111111111111111,
              "#46039f"
             ],
             [
              0.2222222222222222,
              "#7201a8"
             ],
             [
              0.3333333333333333,
              "#9c179e"
             ],
             [
              0.4444444444444444,
              "#bd3786"
             ],
             [
              0.5555555555555556,
              "#d8576b"
             ],
             [
              0.6666666666666666,
              "#ed7953"
             ],
             [
              0.7777777777777778,
              "#fb9f3a"
             ],
             [
              0.8888888888888888,
              "#fdca26"
             ],
             [
              1,
              "#f0f921"
             ]
            ],
            "type": "surface"
           }
          ],
          "table": [
           {
            "cells": {
             "fill": {
              "color": "#506784"
             },
             "line": {
              "color": "rgb(17,17,17)"
             }
            },
            "header": {
             "fill": {
              "color": "#2a3f5f"
             },
             "line": {
              "color": "rgb(17,17,17)"
             }
            },
            "type": "table"
           }
          ]
         },
         "layout": {
          "annotationdefaults": {
           "arrowcolor": "#f2f5fa",
           "arrowhead": 0,
           "arrowwidth": 1
          },
          "autotypenumbers": "strict",
          "coloraxis": {
           "colorbar": {
            "outlinewidth": 0,
            "ticks": ""
           }
          },
          "colorscale": {
           "diverging": [
            [
             0,
             "#8e0152"
            ],
            [
             0.1,
             "#c51b7d"
            ],
            [
             0.2,
             "#de77ae"
            ],
            [
             0.3,
             "#f1b6da"
            ],
            [
             0.4,
             "#fde0ef"
            ],
            [
             0.5,
             "#f7f7f7"
            ],
            [
             0.6,
             "#e6f5d0"
            ],
            [
             0.7,
             "#b8e186"
            ],
            [
             0.8,
             "#7fbc41"
            ],
            [
             0.9,
             "#4d9221"
            ],
            [
             1,
             "#276419"
            ]
           ],
           "sequential": [
            [
             0,
             "#0d0887"
            ],
            [
             0.1111111111111111,
             "#46039f"
            ],
            [
             0.2222222222222222,
             "#7201a8"
            ],
            [
             0.3333333333333333,
             "#9c179e"
            ],
            [
             0.4444444444444444,
             "#bd3786"
            ],
            [
             0.5555555555555556,
             "#d8576b"
            ],
            [
             0.6666666666666666,
             "#ed7953"
            ],
            [
             0.7777777777777778,
             "#fb9f3a"
            ],
            [
             0.8888888888888888,
             "#fdca26"
            ],
            [
             1,
             "#f0f921"
            ]
           ],
           "sequentialminus": [
            [
             0,
             "#0d0887"
            ],
            [
             0.1111111111111111,
             "#46039f"
            ],
            [
             0.2222222222222222,
             "#7201a8"
            ],
            [
             0.3333333333333333,
             "#9c179e"
            ],
            [
             0.4444444444444444,
             "#bd3786"
            ],
            [
             0.5555555555555556,
             "#d8576b"
            ],
            [
             0.6666666666666666,
             "#ed7953"
            ],
            [
             0.7777777777777778,
             "#fb9f3a"
            ],
            [
             0.8888888888888888,
             "#fdca26"
            ],
            [
             1,
             "#f0f921"
            ]
           ]
          },
          "colorway": [
           "#636efa",
           "#EF553B",
           "#00cc96",
           "#ab63fa",
           "#FFA15A",
           "#19d3f3",
           "#FF6692",
           "#B6E880",
           "#FF97FF",
           "#FECB52"
          ],
          "font": {
           "color": "#f2f5fa"
          },
          "geo": {
           "bgcolor": "rgb(17,17,17)",
           "lakecolor": "rgb(17,17,17)",
           "landcolor": "rgb(17,17,17)",
           "showlakes": true,
           "showland": true,
           "subunitcolor": "#506784"
          },
          "hoverlabel": {
           "align": "left"
          },
          "hovermode": "closest",
          "mapbox": {
           "style": "dark"
          },
          "paper_bgcolor": "rgb(17,17,17)",
          "plot_bgcolor": "rgb(17,17,17)",
          "polar": {
           "angularaxis": {
            "gridcolor": "#506784",
            "linecolor": "#506784",
            "ticks": ""
           },
           "bgcolor": "rgb(17,17,17)",
           "radialaxis": {
            "gridcolor": "#506784",
            "linecolor": "#506784",
            "ticks": ""
           }
          },
          "scene": {
           "xaxis": {
            "backgroundcolor": "rgb(17,17,17)",
            "gridcolor": "#506784",
            "gridwidth": 2,
            "linecolor": "#506784",
            "showbackground": true,
            "ticks": "",
            "zerolinecolor": "#C8D4E3"
           },
           "yaxis": {
            "backgroundcolor": "rgb(17,17,17)",
            "gridcolor": "#506784",
            "gridwidth": 2,
            "linecolor": "#506784",
            "showbackground": true,
            "ticks": "",
            "zerolinecolor": "#C8D4E3"
           },
           "zaxis": {
            "backgroundcolor": "rgb(17,17,17)",
            "gridcolor": "#506784",
            "gridwidth": 2,
            "linecolor": "#506784",
            "showbackground": true,
            "ticks": "",
            "zerolinecolor": "#C8D4E3"
           }
          },
          "shapedefaults": {
           "line": {
            "color": "#f2f5fa"
           }
          },
          "sliderdefaults": {
           "bgcolor": "#C8D4E3",
           "bordercolor": "rgb(17,17,17)",
           "borderwidth": 1,
           "tickwidth": 0
          },
          "ternary": {
           "aaxis": {
            "gridcolor": "#506784",
            "linecolor": "#506784",
            "ticks": ""
           },
           "baxis": {
            "gridcolor": "#506784",
            "linecolor": "#506784",
            "ticks": ""
           },
           "bgcolor": "rgb(17,17,17)",
           "caxis": {
            "gridcolor": "#506784",
            "linecolor": "#506784",
            "ticks": ""
           }
          },
          "title": {
           "x": 0.05
          },
          "updatemenudefaults": {
           "bgcolor": "#506784",
           "borderwidth": 0
          },
          "xaxis": {
           "automargin": true,
           "gridcolor": "#283442",
           "linecolor": "#506784",
           "ticks": "",
           "title": {
            "standoff": 15
           },
           "zerolinecolor": "#283442",
           "zerolinewidth": 2
          },
          "yaxis": {
           "automargin": true,
           "gridcolor": "#283442",
           "linecolor": "#506784",
           "ticks": "",
           "title": {
            "standoff": 15
           },
           "zerolinecolor": "#283442",
           "zerolinewidth": 2
          }
         }
        },
        "title": {
         "text": "Wykres Świecowy z MACD i Sygnałami Handlowymi"
        },
        "xaxis": {
         "anchor": "y",
         "autorange": true,
         "domain": [
          0,
          1
         ],
         "matches": "x2",
         "range": [
          "2024-12-06 19:55:05.0847",
          "2024-12-09 01:04:54.9153"
         ],
         "rangeslider": {
          "visible": false,
          "yaxis": {}
         },
         "showticklabels": false,
         "type": "date"
        },
        "xaxis2": {
         "anchor": "y2",
         "autorange": true,
         "domain": [
          0,
          1
         ],
         "range": [
          "2024-12-06 19:55:05.0847",
          "2024-12-09 01:04:54.9153"
         ],
         "type": "date"
        },
        "yaxis": {
         "anchor": "x",
         "autorange": true,
         "domain": [
          0.37,
          1
         ],
         "range": [
          98508.07222222222,
          101500.62777777777
         ],
         "title": {
          "text": "Cena"
         },
         "type": "linear"
        },
        "yaxis2": {
         "anchor": "x2",
         "autorange": true,
         "domain": [
          0,
          0.27
         ],
         "range": [
          -36506.188745454834,
          3247.209786785862
         ],
         "title": {
          "text": "MACD"
         },
         "type": "linear"
        }
       }
      },
      "image/png": "[encoded data removed]",
      "text/html": [
       "<div>                            <div id=\"170dffe6-7b16-429a-aa86-a00f8814cce4\" class=\"plotly-graph-div\" style=\"height:525px; width:100%;\"></div>            <script type=\"text/javascript\">                require([\"plotly\"], function(Plotly) {                    window.PLOTLYENV=window.PLOTLYENV || {};                                    if (document.getElementById(\"170dffe6-7b16-429a-aa86-a00f8814cce4\")) {                    Plotly.newPlot(                        \"170dffe6-7b16-429a-aa86-a00f8814cce4\",                        [{\"close\":[100504.0,99740.84,99740.84,100044.31,99930.01,99299.63,99494.57,99155.98,99336.27,99405.2,99414.76,99676.48,99529.5,99620.0,99426.87,99350.0,99465.3,99756.01,99621.56,99631.97,100123.32,100077.45,100313.57,99869.8,99595.11,99831.99,99831.99,99848.36,100146.9,99934.82,99756.01,99534.26,99675.96,99675.11,98980.01,98884.02,99249.22,99701.16,99922.48,100408.8,99726.73,99912.01,99832.96,99943.98,99660.98,100100.98,99800.01,100026.97,100220.01,101109.59],\"high\":[100707.37,100573.99,100573.99,100428.0,100169.42,99930.01,99666.31,99643.96,99393.6,99494.19,99561.44,99821.83,99708.43,99750.0,99703.55,99518.75,99779.34,99800.0,99799.99,99717.8,100263.64,100262.35,100380.72,100439.18,100046.92,100259.0,100259.0,100128.0,100328.88,100260.0,100030.0,99783.56,99803.32,99863.35,99687.85,99300.0,99409.02,99844.28,100200.0,100500.0,100426.1,99964.63,100142.85,100000.0,100016.0,100198.0,100156.0,100058.83,100274.44,101351.0],\"low\":[100357.68,99053.03,99053.03,99824.62,99868.0,99285.71,99025.01,98844.0,99060.12,99108.0,99260.0,99414.75,99440.0,99421.53,99364.0,99304.0,99036.01,99336.0,99476.62,99460.37,99582.35,99920.31,100077.45,99700.0,99595.11,99595.11,99595.11,99669.01,99750.17,99912.0,99694.66,99370.0,99336.0,99632.61,98964.0,98657.7,98876.0,99124.01,99452.0,99803.8,99724.75,99357.16,99733.15,99628.01,99563.83,99480.0,99800.0,99736.06,99879.21,100088.98],\"name\":\"Kurs\",\"open\":[100372.01,100504.0,100504.0,100272.01,100044.31,99930.01,99299.64,99494.58,99155.99,99336.28,99405.2,99414.76,99676.48,99529.5,99620.0,99426.88,99350.0,99465.3,99756.0,99621.57,99631.98,100123.32,100077.45,100313.57,99869.81,99595.12,99595.12,99978.38,99848.35,100146.91,99934.83,99756.0,99534.26,99675.97,99675.11,98980.02,98884.03,99249.21,99701.17,99922.49,100408.79,99726.72,99912.01,99832.97,99943.99,99660.99,100100.99,99800.01,100026.98,100220.01],\"x\":[\"2024-12-06 22:00:00\",\"2024-12-06 23:00:00\",\"2024-12-07 00:00:00\",\"2024-12-07 01:00:00\",\"2024-12-07 02:00:00\",\"2024-12-07 03:00:00\",\"2024-12-07 04:00:00\",\"2024-12-07 05:00:00\",\"2024-12-07 06:00:00\",\"2024-12-07 07:00:00\",\"2024-12-07 08:00:00\",\"2024-12-07 09:00:00\",\"2024-12-07 10:00:00\",\"2024-12-07 11:00:00\",\"2024-12-07 12:00:00\",\"2024-12-07 13:00:00\",\"2024-12-07 14:00:00\",\"2024-12-07 15:00:00\",\"2024-12-07 16:00:00\",\"2024-12-07 17:00:00\",\"2024-12-07 18:00:00\",\"2024-12-07 19:00:00\",\"2024-12-07 20:00:00\",\"2024-12-07 21:00:00\",\"2024-12-07 22:00:00\",\"2024-12-07 23:00:00\",\"2024-12-08 00:00:00\",\"2024-12-08 01:00:00\",\"2024-12-08 02:00:00\",\"2024-12-08 03:00:00\",\"2024-12-08 04:00:00\",\"2024-12-08 05:00:00\",\"2024-12-08 06:00:00\",\"2024-12-08 07:00:00\",\"2024-12-08 08:00:00\",\"2024-12-08 09:00:00\",\"2024-12-08 10:00:00\",\"2024-12-08 11:00:00\",\"2024-12-08 12:00:00\",\"2024-12-08 13:00:00\",\"2024-12-08 14:00:00\",\"2024-12-08 15:00:00\",\"2024-12-08 16:00:00\",\"2024-12-08 17:00:00\",\"2024-12-08 18:00:00\",\"2024-12-08 19:00:00\",\"2024-12-08 20:00:00\",\"2024-12-08 21:00:00\",\"2024-12-08 22:00:00\",\"2024-12-08 23:00:00\"],\"type\":\"candlestick\",\"xaxis\":\"x\",\"yaxis\":\"y\"},{\"marker\":{\"color\":\"green\",\"size\":12,\"symbol\":\"triangle-up\"},\"mode\":\"markers\",\"name\":\"Sygna\\u0142 Kupna\",\"x\":[\"2024-12-06 23:00:00\",\"2024-12-07 00:00:00\",\"2024-12-07 02:00:00\",\"2024-12-07 03:00:00\",\"2024-12-07 05:00:00\",\"2024-12-07 10:00:00\",\"2024-12-07 19:00:00\",\"2024-12-07 21:00:00\",\"2024-12-07 22:00:00\",\"2024-12-08 03:00:00\",\"2024-12-08 04:00:00\",\"2024-12-08 05:00:00\",\"2024-12-08 14:00:00\"],\"y\":[99740.84,99740.84,99930.01,99299.63,99155.98,99529.5,100077.45,99869.8,99595.11,99934.82,99756.01,99534.26,99726.73],\"type\":\"scatter\",\"xaxis\":\"x\",\"yaxis\":\"y\"},{\"marker\":{\"color\":\"red\",\"size\":12,\"symbol\":\"triangle-down\"},\"mode\":\"markers\",\"name\":\"Sygna\\u0142 Sprzeda\\u017cy\",\"x\":[\"2024-12-07 01:00:00\",\"2024-12-07 14:00:00\",\"2024-12-07 15:00:00\",\"2024-12-07 18:00:00\",\"2024-12-08 02:00:00\",\"2024-12-08 06:00:00\",\"2024-12-08 07:00:00\",\"2024-12-08 10:00:00\",\"2024-12-08 11:00:00\",\"2024-12-08 12:00:00\",\"2024-12-08 13:00:00\",\"2024-12-08 15:00:00\",\"2024-12-08 17:00:00\",\"2024-12-08 19:00:00\",\"2024-12-08 21:00:00\",\"2024-12-08 22:00:00\"],\"y\":[100044.31,99465.3,99756.01,100123.32,100146.9,99675.96,99675.11,99249.22,99701.16,99922.48,100408.8,99912.01,99943.98,100100.98,100026.97,100220.01],\"type\":\"scatter\",\"xaxis\":\"x\",\"yaxis\":\"y\"},{\"line\":{\"color\":\"blue\"},\"mode\":\"lines\",\"name\":\"MACD\",\"x\":[\"2024-12-06 22:00:00\",\"2024-12-06 23:00:00\",\"2024-12-07 00:00:00\",\"2024-12-07 01:00:00\",\"2024-12-07 02:00:00\",\"2024-12-07 03:00:00\",\"2024-12-07 04:00:00\",\"2024-12-07 05:00:00\",\"2024-12-07 06:00:00\",\"2024-12-07 07:00:00\",\"2024-12-07 08:00:00\",\"2024-12-07 09:00:00\",\"2024-12-07 10:00:00\",\"2024-12-07 11:00:00\",\"2024-12-07 12:00:00\",\"2024-12-07 13:00:00\",\"2024-12-07 14:00:00\",\"2024-12-07 15:00:00\",\"2024-12-07 16:00:00\",\"2024-12-07 17:00:00\",\"2024-12-07 18:00:00\",\"2024-12-07 19:00:00\",\"2024-12-07 20:00:00\",\"2024-12-07 21:00:00\",\"2024-12-07 22:00:00\",\"2024-12-07 23:00:00\",\"2024-12-08 00:00:00\",\"2024-12-08 01:00:00\",\"2024-12-08 02:00:00\",\"2024-12-08 03:00:00\",\"2024-12-08 04:00:00\",\"2024-12-08 05:00:00\",\"2024-12-08 06:00:00\",\"2024-12-08 07:00:00\",\"2024-12-08 08:00:00\",\"2024-12-08 09:00:00\",\"2024-12-08 10:00:00\",\"2024-12-08 11:00:00\",\"2024-12-08 12:00:00\",\"2024-12-08 13:00:00\",\"2024-12-08 14:00:00\",\"2024-12-08 15:00:00\",\"2024-12-08 16:00:00\",\"2024-12-08 17:00:00\",\"2024-12-08 18:00:00\",\"2024-12-08 19:00:00\",\"2024-12-08 20:00:00\",\"2024-12-08 21:00:00\",\"2024-12-08 22:00:00\",\"2024-12-08 23:00:00\"],\"y\":[-34215.794406595465,-33512.08839002608,-33461.72985307455,-33768.432860740824,-33684.050181551764,-33055.55676988939,-33187.21243401244,-32883.82265444688,-33029.18923352788,-33109.441688526174,-33116.01576171644,-33358.08454855782,-33226.89152888242,-33289.21826574784,-33103.16380463513,-33007.23897807908,-33110.07094825816,-33396.38450432432,-33280.619905624655,-33265.36917985692,-33731.34827479161,-33717.54034356456,-33923.1987314494,-33501.29728193852,-33190.760576859626,-33400.14427317455,-33423.81979738525,-33432.61574317585,-33712.219394778076,-33521.8311494066,-33319.23283133458,-33086.72027236121,-33206.52130181664,-33218.29084459093,-32542.35926673097,-32390.170595335076,-32744.264341569564,-33211.302127740724,-33445.23750265826,-33906.63633294245,-33265.43906692606,-33369.86226284962,-33310.74918077726,-33409.4169898471,-33140.88723384081,-33535.20439951135,-33276.88353547205,-33459.031607643425,-33657.17060130359,-34518.5188188428],\"type\":\"scatter\",\"xaxis\":\"x2\",\"yaxis\":\"y2\"},{\"line\":{\"color\":\"orange\"},\"mode\":\"lines\",\"name\":\"MACD_Signal\",\"x\":[\"2024-12-06 22:00:00\",\"2024-12-06 23:00:00\",\"2024-12-07 00:00:00\",\"2024-12-07 01:00:00\",\"2024-12-07 02:00:00\",\"2024-12-07 03:00:00\",\"2024-12-07 04:00:00\",\"2024-12-07 05:00:00\",\"2024-12-07 06:00:00\",\"2024-12-07 07:00:00\",\"2024-12-07 08:00:00\",\"2024-12-07 09:00:00\",\"2024-12-07 10:00:00\",\"2024-12-07 11:00:00\",\"2024-12-07 12:00:00\",\"2024-12-07 13:00:00\",\"2024-12-07 14:00:00\",\"2024-12-07 15:00:00\",\"2024-12-07 16:00:00\",\"2024-12-07 17:00:00\",\"2024-12-07 18:00:00\",\"2024-12-07 19:00:00\",\"2024-12-07 20:00:00\",\"2024-12-07 21:00:00\",\"2024-12-07 22:00:00\",\"2024-12-07 23:00:00\",\"2024-12-08 00:00:00\",\"2024-12-08 01:00:00\",\"2024-12-08 02:00:00\",\"2024-12-08 03:00:00\",\"2024-12-08 04:00:00\",\"2024-12-08 05:00:00\",\"2024-12-08 06:00:00\",\"2024-12-08 07:00:00\",\"2024-12-08 08:00:00\",\"2024-12-08 09:00:00\",\"2024-12-08 10:00:00\",\"2024-12-08 11:00:00\",\"2024-12-08 12:00:00\",\"2024-12-08 13:00:00\",\"2024-12-08 14:00:00\",\"2024-12-08 15:00:00\",\"2024-12-08 16:00:00\",\"2024-12-08 17:00:00\",\"2024-12-08 18:00:00\",\"2024-12-08 19:00:00\",\"2024-12-08 20:00:00\",\"2024-12-08 21:00:00\",\"2024-12-08 22:00:00\",\"2024-12-08 23:00:00\"],\"y\":[-33397.98131779602,-33447.80810570652,-33490.59574528349,-33530.60387858657,-33567.19901160899,-33594.351790155306,-33615.1770542097,-33627.72352820165,-33635.11349443212,-33639.1723736895,-33640.6063381358,-33642.39727256123,-33643.06740777965,-33643.44480933668,-33641.643869181724,-33637.124963122675,-33631.51844346615,-33627.987240439674,-33624.88733499902,-33621.95358543191,-33623.89452984764,-33629.46147085024,-33639.88867511535,-33649.692657620755,-33655.71616692177,-33660.82655627245,-33665.382739560184,-33669.519009480515,-33676.11157327054,-33682.594187884984,-33686.83069463299,-33686.858653128766,-33684.773440390076,-33681.1321083004,-33669.35773556988,-33649.7104555089,-33627.63209311432,-33608.5651820133,-33594.372821900564,-33588.80177984789,-33583.455016039734,-33579.36458027107,-33575.65919018686,-33573.265109506545,-33569.14657727171,-33567.71016869739,-33565.72182764525,-33565.15080938785,-33567.69381735207,-33581.43327958918],\"type\":\"scatter\",\"xaxis\":\"x2\",\"yaxis\":\"y2\"},{\"marker\":{\"color\":\"grey\"},\"name\":\"MACD Histogram\",\"opacity\":0.5,\"x\":[\"2024-12-06 22:00:00\",\"2024-12-06 23:00:00\",\"2024-12-07 00:00:00\",\"2024-12-07 01:00:00\",\"2024-12-07 02:00:00\",\"2024-12-07 03:00:00\",\"2024-12-07 04:00:00\",\"2024-12-07 05:00:00\",\"2024-12-07 06:00:00\",\"2024-12-07 07:00:00\",\"2024-12-07 08:00:00\",\"2024-12-07 09:00:00\",\"2024-12-07 10:00:00\",\"2024-12-07 11:00:00\",\"2024-12-07 12:00:00\",\"2024-12-07 13:00:00\",\"2024-12-07 14:00:00\",\"2024-12-07 15:00:00\",\"2024-12-07 16:00:00\",\"2024-12-07 17:00:00\",\"2024-12-07 18:00:00\",\"2024-12-07 19:00:00\",\"2024-12-07 20:00:00\",\"2024-12-07 21:00:00\",\"2024-12-07 22:00:00\",\"2024-12-07 23:00:00\",\"2024-12-08 00:00:00\",\"2024-12-08 01:00:00\",\"2024-12-08 02:00:00\",\"2024-12-08 03:00:00\",\"2024-12-08 04:00:00\",\"2024-12-08 05:00:00\",\"2024-12-08 06:00:00\",\"2024-12-08 07:00:00\",\"2024-12-08 08:00:00\",\"2024-12-08 09:00:00\",\"2024-12-08 10:00:00\",\"2024-12-08 11:00:00\",\"2024-12-08 12:00:00\",\"2024-12-08 13:00:00\",\"2024-12-08 14:00:00\",\"2024-12-08 15:00:00\",\"2024-12-08 16:00:00\",\"2024-12-08 17:00:00\",\"2024-12-08 18:00:00\",\"2024-12-08 19:00:00\",\"2024-12-08 20:00:00\",\"2024-12-08 21:00:00\",\"2024-12-08 22:00:00\",\"2024-12-08 23:00:00\"],\"y\":[-817.8130887994485,-64.28028431956045,28.865892208945297,-237.82898215425666,-116.85116994277632,538.7950202659194,427.9646201972573,743.9008737547701,605.924260904234,529.7306851633257,524.5905764193667,284.3127240034155,416.17587889722927,354.2265435888403,538.4800645465948,629.8859850435911,521.4474952079909,231.60273611535376,344.2674293743621,356.58440557499125,-107.45374494397402,-88.07887271431537,-283.31005633405584,148.3953756822375,464.9555900621417,260.6822830978999,241.5629421749327,236.90326630466734,-36.107821507539484,160.76303847838426,367.59786329841154,600.138380767552,478.25213857343624,462.8412637094734,1126.9984688389086,1259.539860173827,883.3677515447562,397.26305427257466,149.13531924230483,-317.83455309455894,318.01594911367283,209.50231742144388,264.9100094095993,163.8481196594439,428.25934343090194,32.505769186042016,288.83829217319726,106.11920174442639,-89.47678395151888,-937.0855392536178],\"type\":\"bar\",\"xaxis\":\"x2\",\"yaxis\":\"y2\"}],                        {\"template\":{\"data\":{\"barpolar\":[{\"marker\":{\"line\":{\"color\":\"rgb(17,17,17)\",\"width\":0.5},\"pattern\":{\"fillmode\":\"overlay\",\"size\":10,\"solidity\":0.2}},\"type\":\"barpolar\"}],\"bar\":[{\"error_x\":{\"color\":\"#f2f5fa\"},\"error_y\":{\"color\":\"#f2f5fa\"},\"marker\":{\"line\":{\"color\":\"rgb(17,17,17)\",\"width\":0.5},\"pattern\":{\"fillmode\":\"overlay\",\"size\":10,\"solidity\":0.2}},\"type\":\"bar\"}],\"carpet\":[{\"aaxis\":{\"endlinecolor\":\"#A2B1C6\",\"gridcolor\":\"#506784\",\"linecolor\":\"#506784\",\"minorgridcolor\":\"#506784\",\"startlinecolor\":\"#A2B1C6\"},\"baxis\":{\"endlinecolor\":\"#A2B1C6\",\"gridcolor\":\"#506784\",\"linecolor\":\"#506784\",\"minorgridcolor\":\"#506784\",\"startlinecolor\":\"#A2B1C6\"},\"type\":\"carpet\"}],\"choropleth\":[{\"colorbar\":{\"outlinewidth\":0,\"ticks\":\"\"},\"type\":\"choropleth\"}],\"contourcarpet\":[{\"colorbar\":{\"outlinewidth\":0,\"ticks\":\"\"},\"type\":\"contourcarpet\"}],\"contour\":[{\"colorbar\":{\"outlinewidth\":0,\"ticks\":\"\"},\"colorscale\":[[0.0,\"#0d0887\"],[0.1111111111111111,\"#46039f\"],[0.2222222222222222,\"#7201a8\"],[0.3333333333333333,\"#9c179e\"],[0.4444444444444444,\"#bd3786\"],[0.5555555555555556,\"#d8576b\"],[0.6666666666666666,\"#ed7953\"],[0.7777777777777778,\"#fb9f3a\"],[0.8888888888888888,\"#fdca26\"],[1.0,\"#f0f921\"]],\"type\":\"contour\"}],\"heatmapgl\":[{\"colorbar\":{\"outlinewidth\":0,\"ticks\":\"\"},\"colorscale\":[[0.0,\"#0d0887\"],[0.1111111111111111,\"#46039f\"],[0.2222222222222222,\"#7201a8\"],[0.3333333333333333,\"#9c179e\"],[0.4444444444444444,\"#bd3786\"],[0.5555555555555556,\"#d8576b\"],[0.6666666666666666,\"#ed7953\"],[0.7777777777777778,\"#fb9f3a\"],[0.8888888888888888,\"#fdca26\"],[1.0,\"#f0f921\"]],\"type\":\"heatmapgl\"}],\"heatmap\":[{\"colorbar\":{\"outlinewidth\":0,\"ticks\":\"\"},\"colorscale\":[[0.0,\"#0d0887\"],[0.1111111111111111,\"#46039f\"],[0.2222222222222222,\"#7201a8\"],[0.3333333333333333,\"#9c179e\"],[0.4444444444444444,\"#bd3786\"],[0.5555555555555556,\"#d8576b\"],[0.6666666666666666,\"#ed7953\"],[0.7777777777777778,\"#fb9f3a\"],[0.8888888888888888,\"#fdca26\"],[1.0,\"#f0f921\"]],\"type\":\"heatmap\"}],\"histogram2dcontour\":[{\"colorbar\":{\"outlinewidth\":0,\"ticks\":\"\"},\"colorscale\":[[0.0,\"#0d0887\"],[0.1111111111111111,\"#46039f\"],[0.2222222222222222,\"#7201a8\"],[0.3333333333333333,\"#9c179e\"],[0.4444444444444444,\"#bd3786\"],[0.5555555555555556,\"#d8576b\"],[0.6666666666666666,\"#ed7953\"],[0.7777777777777778,\"#fb9f3a\"],[0.8888888888888888,\"#fdca26\"],[1.0,\"#f0f921\"]],\"type\":\"histogram2dcontour\"}],\"histogram2d\":[{\"colorbar\":{\"outlinewidth\":0,\"ticks\":\"\"},\"colorscale\":[[0.0,\"#0d0887\"],[0.1111111111111111,\"#46039f\"],[0.2222222222222222,\"#7201a8\"],[0.3333333333333333,\"#9c179e\"],[0.4444444444444444,\"#bd3786\"],[0.5555555555555556,\"#d8576b\"],[0.6666666666666666,\"#ed7953\"],[0.7777777777777778,\"#fb9f3a\"],[0.8888888888888888,\"#fdca26\"],[1.0,\"#f0f921\"]],\"type\":\"histogram2d\"}],\"histogram\":[{\"marker\":{\"pattern\":{\"fillmode\":\"overlay\",\"size\":10,\"solidity\":0.2}},\"type\":\"histogram\"}],\"mesh3d\":[{\"colorbar\":{\"outlinewidth\":0,\"ticks\":\"\"},\"type\":\"mesh3d\"}],\"parcoords\":[{\"line\":{\"colorbar\":{\"outlinewidth\":0,\"ticks\":\"\"}},\"type\":\"parcoords\"}],\"pie\":[{\"automargin\":true,\"type\":\"pie\"}],\"scatter3d\":[{\"line\":{\"colorbar\":{\"outlinewidth\":0,\"ticks\":\"\"}},\"marker\":{\"colorbar\":{\"outlinewidth\":0,\"ticks\":\"\"}},\"type\":\"scatter3d\"}],\"scattercarpet\":[{\"marker\":{\"colorbar\":{\"outlinewidth\":0,\"ticks\":\"\"}},\"type\":\"scattercarpet\"}],\"scattergeo\":[{\"marker\":{\"colorbar\":{\"outlinewidth\":0,\"ticks\":\"\"}},\"type\":\"scattergeo\"}],\"scattergl\":[{\"marker\":{\"line\":{\"color\":\"#283442\"}},\"type\":\"scattergl\"}],\"scattermapbox\":[{\"marker\":{\"colorbar\":{\"outlinewidth\":0,\"ticks\":\"\"}},\"type\":\"scattermapbox\"}],\"scatterpolargl\":[{\"marker\":{\"colorbar\":{\"outlinewidth\":0,\"ticks\":\"\"}},\"type\":\"scatterpolargl\"}],\"scatterpolar\":[{\"marker\":{\"colorbar\":{\"outlinewidth\":0,\"ticks\":\"\"}},\"type\":\"scatterpolar\"}],\"scatter\":[{\"marker\":{\"line\":{\"color\":\"#283442\"}},\"type\":\"scatter\"}],\"scatterternary\":[{\"marker\":{\"colorbar\":{\"outlinewidth\":0,\"ticks\":\"\"}},\"type\":\"scatterternary\"}],\"surface\":[{\"colorbar\":{\"outlinewidth\":0,\"ticks\":\"\"},\"colorscale\":[[0.0,\"#0d0887\"],[0.1111111111111111,\"#46039f\"],[0.2222222222222222,\"#7201a8\"],[0.3333333333333333,\"#9c179e\"],[0.4444444444444444,\"#bd3786\"],[0.5555555555555556,\"#d8576b\"],[0.6666666666666666,\"#ed7953\"],[0.7777777777777778,\"#fb9f3a\"],[0.8888888888888888,\"#fdca26\"],[1.0,\"#f0f921\"]],\"type\":\"surface\"}],\"table\":[{\"cells\":{\"fill\":{\"color\":\"#506784\"},\"line\":{\"color\":\"rgb(17,17,17)\"}},\"header\":{\"fill\":{\"color\":\"#2a3f5f\"},\"line\":{\"color\":\"rgb(17,17,17)\"}},\"type\":\"table\"}]},\"layout\":{\"annotationdefaults\":{\"arrowcolor\":\"#f2f5fa\",\"arrowhead\":0,\"arrowwidth\":1},\"autotypenumbers\":\"strict\",\"coloraxis\":{\"colorbar\":{\"outlinewidth\":0,\"ticks\":\"\"}},\"colorscale\":{\"diverging\":[[0,\"#8e0152\"],[0.1,\"#c51b7d\"],[0.2,\"#de77ae\"],[0.3,\"#f1b6da\"],[0.4,\"#fde0ef\"],[0.5,\"#f7f7f7\"],[0.6,\"#e6f5d0\"],[0.7,\"#b8e186\"],[0.8,\"#7fbc41\"],[0.9,\"#4d9221\"],[1,\"#276419\"]],\"sequential\":[[0.0,\"#0d0887\"],[0.1111111111111111,\"#46039f\"],[0.2222222222222222,\"#7201a8\"],[0.3333333333333333,\"#9c179e\"],[0.4444444444444444,\"#bd3786\"],[0.5555555555555556,\"#d8576b\"],[0.6666666666666666,\"#ed7953\"],[0.7777777777777778,\"#fb9f3a\"],[0.8888888888888888,\"#fdca26\"],[1.0,\"#f0f921\"]],\"sequentialminus\":[[0.0,\"#0d0887\"],[0.1111111111111111,\"#46039f\"],[0.2222222222222222,\"#7201a8\"],[0.3333333333333333,\"#9c179e\"],[0.4444444444444444,\"#bd3786\"],[0.5555555555555556,\"#d8576b\"],[0.6666666666666666,\"#ed7953\"],[0.7777777777777778,\"#fb9f3a\"],[0.8888888888888888,\"#fdca26\"],[1.0,\"#f0f921\"]]},\"colorway\":[\"#636efa\",\"#EF553B\",\"#00cc96\",\"#ab63fa\",\"#FFA15A\",\"#19d3f3\",\"#FF6692\",\"#B6E880\",\"#FF97FF\",\"#FECB52\"],\"font\":{\"color\":\"#f2f5fa\"},\"geo\":{\"bgcolor\":\"rgb(17,17,17)\",\"lakecolor\":\"rgb(17,17,17)\",\"landcolor\":\"rgb(17,17,17)\",\"showlakes\":true,\"showland\":true,\"subunitcolor\":\"#506784\"},\"hoverlabel\":{\"align\":\"left\"},\"hovermode\":\"closest\",\"mapbox\":{\"style\":\"dark\"},\"paper_bgcolor\":\"rgb(17,17,17)\",\"plot_bgcolor\":\"rgb(17,17,17)\",\"polar\":{\"angularaxis\":{\"gridcolor\":\"#506784\",\"linecolor\":\"#506784\",\"ticks\":\"\"},\"bgcolor\":\"rgb(17,17,17)\",\"radialaxis\":{\"gridcolor\":\"#506784\",\"linecolor\":\"#506784\",\"ticks\":\"\"}},\"scene\":{\"xaxis\":{\"backgroundcolor\":\"rgb(17,17,17)\",\"gridcolor\":\"#506784\",\"gridwidth\":2,\"linecolor\":\"#506784\",\"showbackground\":true,\"ticks\":\"\",\"zerolinecolor\":\"#C8D4E3\"},\"yaxis\":{\"backgroundcolor\":\"rgb(17,17,17)\",\"gridcolor\":\"#506784\",\"gridwidth\":2,\"linecolor\":\"#506784\",\"showbackground\":true,\"ticks\":\"\",\"zerolinecolor\":\"#C8D4E3\"},\"zaxis\":{\"backgroundcolor\":\"rgb(17,17,17)\",\"gridcolor\":\"#506784\",\"gridwidth\":2,\"linecolor\":\"#506784\",\"showbackground\":true,\"ticks\":\"\",\"zerolinecolor\":\"#C8D4E3\"}},\"shapedefaults\":{\"line\":{\"color\":\"#f2f5fa\"}},\"sliderdefaults\":{\"bgcolor\":\"#C8D4E3\",\"bordercolor\":\"rgb(17,17,17)\",\"borderwidth\":1,\"tickwidth\":0},\"ternary\":{\"aaxis\":{\"gridcolor\":\"#506784\",\"linecolor\":\"#506784\",\"ticks\":\"\"},\"baxis\":{\"gridcolor\":\"#506784\",\"linecolor\":\"#506784\",\"ticks\":\"\"},\"bgcolor\":\"rgb(17,17,17)\",\"caxis\":{\"gridcolor\":\"#506784\",\"linecolor\":\"#506784\",\"ticks\":\"\"}},\"title\":{\"x\":0.05},\"updatemenudefaults\":{\"bgcolor\":\"#506784\",\"borderwidth\":0},\"xaxis\":{\"automargin\":true,\"gridcolor\":\"#283442\",\"linecolor\":\"#506784\",\"ticks\":\"\",\"title\":{\"standoff\":15},\"zerolinecolor\":\"#283442\",\"zerolinewidth\":2},\"yaxis\":{\"automargin\":true,\"gridcolor\":\"#283442\",\"linecolor\":\"#506784\",\"ticks\":\"\",\"title\":{\"standoff\":15},\"zerolinecolor\":\"#283442\",\"zerolinewidth\":2}}},\"xaxis\":{\"anchor\":\"y\",\"domain\":[0.0,1.0],\"matches\":\"x2\",\"showticklabels\":false,\"rangeslider\":{\"visible\":false}},\"yaxis\":{\"anchor\":\"x\",\"domain\":[0.37,1.0],\"title\":{\"text\":\"Cena\"}},\"xaxis2\":{\"anchor\":\"y2\",\"domain\":[0.0,1.0]},\"yaxis2\":{\"anchor\":\"x2\",\"domain\":[0.0,0.27],\"title\":{\"text\":\"MACD\"}},\"annotations\":[{\"font\":{\"size\":16},\"showarrow\":false,\"text\":\"Wykres \\u015awiecowy z Sygna\\u0142ami Handlowymi\",\"x\":0.5,\"xanchor\":\"center\",\"xref\":\"paper\",\"y\":1.0,\"yanchor\":\"bottom\",\"yref\":\"paper\"},{\"font\":{\"size\":16},\"showarrow\":false,\"text\":\"MACD\",\"x\":0.5,\"xanchor\":\"center\",\"xref\":\"paper\",\"y\":0.27,\"yanchor\":\"bottom\",\"yref\":\"paper\"}],\"legend\":{\"orientation\":\"h\",\"yanchor\":\"bottom\",\"y\":1.02,\"xanchor\":\"right\",\"x\":1},\"title\":{\"text\":\"Wykres \\u015awiecowy z MACD i Sygna\\u0142ami Handlowymi\"}},                        {\"responsive\": true}                    ).then(function(){\n",
       "                            \n",
       "var gd = document.getElementById('170dffe6-7b16-429a-aa86-a00f8814cce4');\n",
       "var x = new MutationObserver(function (mutations, observer) {{\n",
       "        var display = window.getComputedStyle(gd).display;\n",
       "        if (!display || display === 'none') {{\n",
       "            console.log([gd, 'removed!']);\n",
       "            Plotly.purge(gd);\n",
       "            observer.disconnect();\n",
       "        }}\n",
       "}});\n",
       "\n",
       "// Listen for the removal of the full notebook cells\n",
       "var notebookContainer = gd.closest('#notebook-container');\n",
       "if (notebookContainer) {{\n",
       "    x.observe(notebookContainer, {childList: true});\n",
       "}}\n",
       "\n",
       "// Listen for the clearing of the current output cell\n",
       "var outputEl = gd.closest('.output');\n",
       "if (outputEl) {{\n",
       "    x.observe(outputEl, {childList: true});\n",
       "}}\n",
       "\n",
       "                        })                };                });            </script>        </div>"
      ]
     },
     "metadata": {},
     "output_type": "display_data"
    }
   ],
   "source": [
    "import plotly.graph_objects as go\n",
    "from plotly.subplots import make_subplots\n",
    "\n",
    "# Tworzenie wykresu z dwoma panelami\n",
    "fig = make_subplots(\n",
    "    rows=2,\n",
    "    cols=1,\n",
    "    shared_xaxes=True,\n",
    "    vertical_spacing=0.1,\n",
    "    row_heights=[0.7, 0.3],\n",
    "    subplot_titles=(\"Wykres Świecowy z Sygnałami Handlowymi\", \"MACD\"),\n",
    ")\n",
    "\n",
    "# Dodanie wykresu świecowego do pierwszego panelu\n",
    "fig.add_trace(\n",
    "    go.Candlestick(\n",
    "        x=df_plot[\"Opened\"],\n",
    "        open=df_plot[\"Open\"],\n",
    "        high=df_plot[\"High\"],\n",
    "        low=df_plot[\"Low\"],\n",
    "        close=df_plot[\"Close\"],\n",
    "        name=\"Kurs\",\n",
    "    ),\n",
    "    row=1,\n",
    "    col=1,\n",
    ")\n",
    "\n",
    "# Dodanie markerów sygnałów kupna\n",
    "buy_signals = df_plot[df_plot[\"Signal\"] > 0]\n",
    "fig.add_trace(\n",
    "    go.Scatter(\n",
    "        x=buy_signals[\"Opened\"],\n",
    "        y=buy_signals[\"Close\"],\n",
    "        mode=\"markers\",\n",
    "        marker=dict(symbol=\"triangle-up\", color=\"green\", size=12),\n",
    "        name=\"Sygnał Kupna\",\n",
    "    ),\n",
    "    row=1,\n",
    "    col=1,\n",
    ")\n",
    "\n",
    "# Dodanie markerów sygnałów sprzedaży\n",
    "sell_signals = df_plot[df_plot[\"Signal\"] < 0]\n",
    "fig.add_trace(\n",
    "    go.Scatter(\n",
    "        x=sell_signals[\"Opened\"],\n",
    "        y=sell_signals[\"Close\"],\n",
    "        mode=\"markers\",\n",
    "        marker=dict(symbol=\"triangle-down\", color=\"red\", size=12),\n",
    "        name=\"Sygnał Sprzedaży\",\n",
    "    ),\n",
    "    row=1,\n",
    "    col=1,\n",
    ")\n",
    "\n",
    "# Dodanie MACD do drugiego panelu\n",
    "fig.add_trace(\n",
    "    go.Scatter(\n",
    "        x=df_plot[\"Opened\"],\n",
    "        y=df_plot[\"MACD\"],\n",
    "        mode=\"lines\",\n",
    "        name=\"MACD\",\n",
    "        line=dict(color=\"blue\"),\n",
    "    ),\n",
    "    row=2,\n",
    "    col=1,\n",
    ")\n",
    "\n",
    "# Dodanie MACD_Signal do drugiego panelu\n",
    "fig.add_trace(\n",
    "    go.Scatter(\n",
    "        x=df_plot[\"Opened\"],\n",
    "        y=df_plot[\"MACD_Signal\"],\n",
    "        mode=\"lines\",\n",
    "        name=\"MACD_Signal\",\n",
    "        line=dict(color=\"orange\"),\n",
    "    ),\n",
    "    row=2,\n",
    "    col=1,\n",
    ")\n",
    "\n",
    "# Opcjonalnie: Dodanie histogramu różnicy MACD i MACD_Signal (MACD Histogram)\n",
    "fig.add_trace(\n",
    "    go.Bar(\n",
    "        x=df_plot[\"Opened\"],\n",
    "        y=df_plot[\"MACD\"] - df_plot[\"MACD_Signal\"],\n",
    "        name=\"MACD Histogram\",\n",
    "        marker_color=\"grey\",\n",
    "        opacity=0.5,\n",
    "    ),\n",
    "    row=2,\n",
    "    col=1,\n",
    ")\n",
    "\n",
    "# Aktualizacja układu wykresu\n",
    "fig.update_layout(\n",
    "    title=\"Wykres Świecowy z MACD i Sygnałami Handlowymi\",\n",
    "    xaxis=dict(rangeslider=dict(visible=False)),\n",
    "    template=\"plotly_dark\",\n",
    "    legend=dict(orientation=\"h\", yanchor=\"bottom\", y=1.02, xanchor=\"right\", x=1),\n",
    ")\n",
    "\n",
    "fig.update_yaxes(title_text=\"Cena\", row=1, col=1)\n",
    "fig.update_yaxes(title_text=\"MACD\", row=2, col=1)\n",
    "\n",
    "fig.show()"
   ]
  },
  {
   "cell_type": "code",
   "execution_count": 126,
   "id": "50e4ebd4-bf5b-4b00-8f8d-56771b6eb42c",
   "metadata": {},
   "outputs": [
    {
     "data": {
      "text/html": [
       "<div>\n",
       "<style scoped>\n",
       "    .dataframe tbody tr th:only-of-type {\n",
       "        vertical-align: middle;\n",
       "    }\n",
       "\n",
       "    .dataframe tbody tr th {\n",
       "        vertical-align: top;\n",
       "    }\n",
       "\n",
       "    .dataframe thead th {\n",
       "        text-align: right;\n",
       "    }\n",
       "</style>\n",
       "<table border=\"1\" class=\"dataframe\">\n",
       "  <thead>\n",
       "    <tr style=\"text-align: right;\">\n",
       "      <th></th>\n",
       "      <th>Opened</th>\n",
       "      <th>Open</th>\n",
       "      <th>High</th>\n",
       "      <th>Low</th>\n",
       "      <th>Close</th>\n",
       "      <th>Volume</th>\n",
       "      <th>Action</th>\n",
       "      <th>Weight</th>\n",
       "      <th>MACD</th>\n",
       "      <th>MACD_Signal</th>\n",
       "      <th>Signal</th>\n",
       "    </tr>\n",
       "  </thead>\n",
       "  <tbody>\n",
       "    <tr>\n",
       "      <th>63999</th>\n",
       "      <td>2024-12-04 20:00:00</td>\n",
       "      <td>97209.64</td>\n",
       "      <td>99000.00</td>\n",
       "      <td>97128.52</td>\n",
       "      <td>98747.97</td>\n",
       "      <td>7370.81853</td>\n",
       "      <td>-1</td>\n",
       "      <td>1.040339</td>\n",
       "      <td>-10721.465382</td>\n",
       "      <td>-10219.820465</td>\n",
       "      <td>0.00</td>\n",
       "    </tr>\n",
       "    <tr>\n",
       "      <th>64000</th>\n",
       "      <td>2024-12-04 21:00:00</td>\n",
       "      <td>98747.96</td>\n",
       "      <td>98900.00</td>\n",
       "      <td>97416.59</td>\n",
       "      <td>97691.11</td>\n",
       "      <td>3022.15927</td>\n",
       "      <td>1</td>\n",
       "      <td>1.008417</td>\n",
       "      <td>-9743.430468</td>\n",
       "      <td>-10069.442106</td>\n",
       "      <td>1.00</td>\n",
       "    </tr>\n",
       "    <tr>\n",
       "      <th>64001</th>\n",
       "      <td>2024-12-04 22:00:00</td>\n",
       "      <td>97691.11</td>\n",
       "      <td>98598.00</td>\n",
       "      <td>97544.00</td>\n",
       "      <td>98174.61</td>\n",
       "      <td>1637.42365</td>\n",
       "      <td>0</td>\n",
       "      <td>1.008417</td>\n",
       "      <td>-10039.239097</td>\n",
       "      <td>-9940.636222</td>\n",
       "      <td>-0.75</td>\n",
       "    </tr>\n",
       "    <tr>\n",
       "      <th>64002</th>\n",
       "      <td>2024-12-04 23:00:00</td>\n",
       "      <td>98174.60</td>\n",
       "      <td>99000.00</td>\n",
       "      <td>98164.01</td>\n",
       "      <td>98587.32</td>\n",
       "      <td>2218.07741</td>\n",
       "      <td>0</td>\n",
       "      <td>1.008417</td>\n",
       "      <td>-10438.249842</td>\n",
       "      <td>-10305.246261</td>\n",
       "      <td>0.00</td>\n",
       "    </tr>\n",
       "    <tr>\n",
       "      <th>64003</th>\n",
       "      <td>2024-12-05 00:00:00</td>\n",
       "      <td>98174.60</td>\n",
       "      <td>99000.00</td>\n",
       "      <td>98164.01</td>\n",
       "      <td>98587.32</td>\n",
       "      <td>2218.07741</td>\n",
       "      <td>-1</td>\n",
       "      <td>1.008417</td>\n",
       "      <td>-10432.241336</td>\n",
       "      <td>-10434.244172</td>\n",
       "      <td>1.00</td>\n",
       "    </tr>\n",
       "    <tr>\n",
       "      <th>...</th>\n",
       "      <td>...</td>\n",
       "      <td>...</td>\n",
       "      <td>...</td>\n",
       "      <td>...</td>\n",
       "      <td>...</td>\n",
       "      <td>...</td>\n",
       "      <td>...</td>\n",
       "      <td>...</td>\n",
       "      <td>...</td>\n",
       "      <td>...</td>\n",
       "      <td>...</td>\n",
       "    </tr>\n",
       "    <tr>\n",
       "      <th>64094</th>\n",
       "      <td>2024-12-08 19:00:00</td>\n",
       "      <td>99660.99</td>\n",
       "      <td>100198.00</td>\n",
       "      <td>99480.00</td>\n",
       "      <td>100100.98</td>\n",
       "      <td>531.70789</td>\n",
       "      <td>-1</td>\n",
       "      <td>1.003662</td>\n",
       "      <td>-8323.806767</td>\n",
       "      <td>-8201.087353</td>\n",
       "      <td>-0.75</td>\n",
       "    </tr>\n",
       "    <tr>\n",
       "      <th>64095</th>\n",
       "      <td>2024-12-08 20:00:00</td>\n",
       "      <td>100100.99</td>\n",
       "      <td>100156.00</td>\n",
       "      <td>99800.00</td>\n",
       "      <td>99800.01</td>\n",
       "      <td>402.06692</td>\n",
       "      <td>1</td>\n",
       "      <td>1.003455</td>\n",
       "      <td>-8039.645330</td>\n",
       "      <td>-8134.365810</td>\n",
       "      <td>1.00</td>\n",
       "    </tr>\n",
       "    <tr>\n",
       "      <th>64096</th>\n",
       "      <td>2024-12-08 21:00:00</td>\n",
       "      <td>99800.01</td>\n",
       "      <td>100058.83</td>\n",
       "      <td>99736.06</td>\n",
       "      <td>100026.97</td>\n",
       "      <td>359.99203</td>\n",
       "      <td>0</td>\n",
       "      <td>1.003455</td>\n",
       "      <td>-8195.812691</td>\n",
       "      <td>-8143.756905</td>\n",
       "      <td>-0.75</td>\n",
       "    </tr>\n",
       "    <tr>\n",
       "      <th>64097</th>\n",
       "      <td>2024-12-08 22:00:00</td>\n",
       "      <td>100026.98</td>\n",
       "      <td>100274.44</td>\n",
       "      <td>99879.21</td>\n",
       "      <td>100220.01</td>\n",
       "      <td>504.28845</td>\n",
       "      <td>-1</td>\n",
       "      <td>1.003455</td>\n",
       "      <td>-8368.446987</td>\n",
       "      <td>-8310.902222</td>\n",
       "      <td>0.00</td>\n",
       "    </tr>\n",
       "    <tr>\n",
       "      <th>64098</th>\n",
       "      <td>2024-12-08 23:00:00</td>\n",
       "      <td>100220.01</td>\n",
       "      <td>101351.00</td>\n",
       "      <td>100088.98</td>\n",
       "      <td>101109.59</td>\n",
       "      <td>1902.60649</td>\n",
       "      <td>0</td>\n",
       "      <td>1.000000</td>\n",
       "      <td>-9202.041381</td>\n",
       "      <td>-8924.176584</td>\n",
       "      <td>0.00</td>\n",
       "    </tr>\n",
       "  </tbody>\n",
       "</table>\n",
       "<p>100 rows × 11 columns</p>\n",
       "</div>"
      ],
      "text/plain": [
       "                    Opened       Open       High        Low      Close  \\\n",
       "63999  2024-12-04 20:00:00   97209.64   99000.00   97128.52   98747.97   \n",
       "64000  2024-12-04 21:00:00   98747.96   98900.00   97416.59   97691.11   \n",
       "64001  2024-12-04 22:00:00   97691.11   98598.00   97544.00   98174.61   \n",
       "64002  2024-12-04 23:00:00   98174.60   99000.00   98164.01   98587.32   \n",
       "64003  2024-12-05 00:00:00   98174.60   99000.00   98164.01   98587.32   \n",
       "...                    ...        ...        ...        ...        ...   \n",
       "64094  2024-12-08 19:00:00   99660.99  100198.00   99480.00  100100.98   \n",
       "64095  2024-12-08 20:00:00  100100.99  100156.00   99800.00   99800.01   \n",
       "64096  2024-12-08 21:00:00   99800.01  100058.83   99736.06  100026.97   \n",
       "64097  2024-12-08 22:00:00  100026.98  100274.44   99879.21  100220.01   \n",
       "64098  2024-12-08 23:00:00  100220.01  101351.00  100088.98  101109.59   \n",
       "\n",
       "           Volume  Action    Weight          MACD   MACD_Signal  Signal  \n",
       "63999  7370.81853      -1  1.040339 -10721.465382 -10219.820465    0.00  \n",
       "64000  3022.15927       1  1.008417  -9743.430468 -10069.442106    1.00  \n",
       "64001  1637.42365       0  1.008417 -10039.239097  -9940.636222   -0.75  \n",
       "64002  2218.07741       0  1.008417 -10438.249842 -10305.246261    0.00  \n",
       "64003  2218.07741      -1  1.008417 -10432.241336 -10434.244172    1.00  \n",
       "...           ...     ...       ...           ...           ...     ...  \n",
       "64094   531.70789      -1  1.003662  -8323.806767  -8201.087353   -0.75  \n",
       "64095   402.06692       1  1.003455  -8039.645330  -8134.365810    1.00  \n",
       "64096   359.99203       0  1.003455  -8195.812691  -8143.756905   -0.75  \n",
       "64097   504.28845      -1  1.003455  -8368.446987  -8310.902222    0.00  \n",
       "64098  1902.60649       0  1.000000  -9202.041381  -8924.176584    0.00  \n",
       "\n",
       "[100 rows x 11 columns]"
      ]
     },
     "execution_count": 126,
     "metadata": {},
     "output_type": "execute_result"
    }
   ],
   "source": [
    "df_plot"
   ]
  },
  {
   "cell_type": "code",
   "execution_count": 127,
   "id": "ae51b50f-bda7-4caf-90f2-2b2711f13b6f",
   "metadata": {},
   "outputs": [],
   "source": [
    "df_plot[\"Opened\"] = pd.to_datetime(df[\"Opened\"])\n",
    "df_plot.set_index(\"Opened\", inplace=True)\n",
    "df_plot.sort_index(inplace=True)"
   ]
  },
  {
   "cell_type": "code",
   "execution_count": 140,
   "id": "0e658a36-53c2-4197-8f89-faebaa18b16b",
   "metadata": {},
   "outputs": [
    {
     "name": "stderr",
     "output_type": "stream",
     "text": [
      "C:\\Users\\philipz\\AppData\\Local\\Temp\\ipykernel_12132\\3790989061.py:59: UserWarning: This figure includes Axes that are not compatible with tight_layout, so results might be incorrect.\n",
      "  plt.tight_layout()\n"
     ]
    },
    {
     "data": {
      "image/png": "[encoded data removed]",
      "text/plain": [
       "<Figure size 1400x1200 with 8 Axes>"
      ]
     },
     "metadata": {},
     "output_type": "display_data"
    }
   ],
   "source": [
    "import mplfinance as mpf\n",
    "import matplotlib.pyplot as plt\n",
    "\n",
    "# Zakładam, że masz już przygotowany DataFrame df_plot z dodatkowymi kolumnami:\n",
    "# 'MACD', 'MACD_Signal', 'Action', 'Signal'\n",
    "\n",
    "# Utwórz DataFrame tylko z OHLCV\n",
    "df_ohlcv = df_plot[[\"Open\", \"High\", \"Low\", \"Close\", \"Volume\"]].copy()\n",
    "\n",
    "# Definiowanie stylu wykresu\n",
    "mc = mpf.make_marketcolors(up=\"g\", down=\"r\", inherit=True)\n",
    "s = mpf.make_mpf_style(marketcolors=mc)\n",
    "\n",
    "# Definiowanie dodatkowych wykresów\n",
    "apds = [\n",
    "    # Wykres MACD na panelu 1\n",
    "    mpf.make_addplot(df_plot[\"MACD\"], color=\"b\", panel=1, ylabel=\"MACD\"),\n",
    "    mpf.make_addplot(df_plot[\"MACD_Signal\"], color=\"r\", panel=1),\n",
    "    # Wykres kolumnowy dla Action na panelu 2\n",
    "    mpf.make_addplot(\n",
    "        df_plot[\"Action\"], type=\"bar\", panel=2, color=\"purple\", ylabel=\"Action\"\n",
    "    ),\n",
    "    # Wykres kolumnowy dla Signal na panelu 3\n",
    "    mpf.make_addplot(\n",
    "        df_plot[\"Signal\"], type=\"bar\", panel=3, color=\"orange\", ylabel=\"Signal\"\n",
    "    ),\n",
    "]\n",
    "\n",
    "# Rysowanie wykresu świecowego z dodatkowymi wykresami\n",
    "fig, axes = mpf.plot(\n",
    "    df_ohlcv,  # Używaj tylko OHLCV do głównego wykresu\n",
    "    type=\"candle\",\n",
    "    style=s,\n",
    "    addplot=apds,\n",
    "    volume=False,  # Wyłącz domyślny wykres wolumenu\n",
    "    returnfig=True,\n",
    "    figsize=(14, 12),  # Zwiększ wysokość wykresu dla dodatkowych paneli\n",
    "    title=\"OHLCV z MACD, Action i Signal\",\n",
    "    mav=(12, 26),  # Średnie kroczące, opcjonalnie\n",
    ")\n",
    "\n",
    "# Opcjonalne dostosowanie osi i legendy\n",
    "\n",
    "# Główny wykres świecowy\n",
    "ax_main = axes[0]\n",
    "ax_main.legend([\"Cena\"], loc=\"upper left\")\n",
    "\n",
    "# Panel MACD\n",
    "ax_macd = axes[2]  # Panel 1 to indeks 2 (axes[0]: główny, axes[1]: panel 1)\n",
    "ax_macd.legend([\"MACD\", \"Signal\"], loc=\"upper left\")\n",
    "\n",
    "# Panel Action\n",
    "ax_action = axes[3]  # Panel 2\n",
    "ax_action.legend([\"Action\"], loc=\"upper left\")\n",
    "\n",
    "# Panel Signal\n",
    "ax_signal = axes[4]  # Panel 3\n",
    "ax_signal.legend([\"Signal\"], loc=\"upper left\")\n",
    "\n",
    "# Popraw układ wykresów\n",
    "plt.tight_layout()\n",
    "plt.show()"
   ]
  }
 ],
 "metadata": {
  "kernelspec": {
   "display_name": "Python 3 (ipykernel)",
   "language": "python",
   "name": "python3"
  },
  "language_info": {
   "codemirror_mode": {
    "name": "ipython",
    "version": 3
   },
   "file_extension": ".py",
   "mimetype": "text/x-python",
   "name": "python",
   "nbconvert_exporter": "python",
   "pygments_lexer": "ipython3",
   "version": "3.11.9"
  }
 },
 "nbformat": 4,
 "nbformat_minor": 5
}
