{
 "cells": [
  {
   "cell_type": "code",
   "execution_count": 12,
   "id": "a62fd371-203e-4783-b687-4958736273e1",
   "metadata": {},
   "outputs": [
    {
     "name": "stdout",
     "output_type": "stream",
     "text": [
      "Collecting plotly\n",
      "  Downloading plotly-5.24.1-py3-none-any.whl.metadata (7.3 kB)\n",
      "Collecting tenacity>=6.2.0 (from plotly)\n",
      "  Downloading tenacity-9.0.0-py3-none-any.whl.metadata (1.2 kB)\n",
      "Requirement already satisfied: packaging in c:\\users\\philipz\\.pyenv\\pyenv-win\\versions\\3.11.9\\lib\\site-packages (from plotly) (24.2)\n",
      "Downloading plotly-5.24.1-py3-none-any.whl (19.1 MB)\n",
      "   ---------------------------------------- 0.0/19.1 MB ? eta -:--:--\n",
      "   ------------------ --------------------- 8.7/19.1 MB 53.8 MB/s eta 0:00:01\n",
      "   ---------------------------------------- 19.1/19.1 MB 57.3 MB/s eta 0:00:00\n",
      "Downloading tenacity-9.0.0-py3-none-any.whl (28 kB)\n",
      "Installing collected packages: tenacity, plotly\n",
      "Successfully installed plotly-5.24.1 tenacity-9.0.0\n"
     ]
    }
   ],
   "source": [
    "!pip install plotly"
   ]
  },
  {
   "cell_type": "code",
   "execution_count": 10,
   "id": "2e8a8bcf-c488-408c-89d5-484c33a77f83",
   "metadata": {},
   "outputs": [
    {
     "ename": "ModuleNotFoundError",
     "evalue": "No module named 'seaborn'",
     "output_type": "error",
     "traceback": [
      "\u001b[1;31m---------------------------------------------------------------------------\u001b[0m",
      "\u001b[1;31mModuleNotFoundError\u001b[0m                       Traceback (most recent call last)",
      "Cell \u001b[1;32mIn[10], line 3\u001b[0m\n\u001b[0;32m      1\u001b[0m \u001b[38;5;28;01mimport\u001b[39;00m\u001b[38;5;250m \u001b[39m\u001b[38;5;21;01mpandas\u001b[39;00m\u001b[38;5;250m \u001b[39m\u001b[38;5;28;01mas\u001b[39;00m\u001b[38;5;250m \u001b[39m\u001b[38;5;21;01mpd\u001b[39;00m\n\u001b[0;32m      2\u001b[0m \u001b[38;5;28;01mimport\u001b[39;00m\u001b[38;5;250m \u001b[39m\u001b[38;5;21;01mmatplotlib\u001b[39;00m\u001b[38;5;21;01m.\u001b[39;00m\u001b[38;5;21;01mpyplot\u001b[39;00m\u001b[38;5;250m \u001b[39m\u001b[38;5;28;01mas\u001b[39;00m\u001b[38;5;250m \u001b[39m\u001b[38;5;21;01mplt\u001b[39;00m\n\u001b[1;32m----> 3\u001b[0m \u001b[38;5;28;01mimport\u001b[39;00m\u001b[38;5;250m \u001b[39m\u001b[38;5;21;01mseaborn\u001b[39;00m\u001b[38;5;250m \u001b[39m\u001b[38;5;28;01mas\u001b[39;00m\u001b[38;5;250m \u001b[39m\u001b[38;5;21;01msns\u001b[39;00m\n",
      "\u001b[1;31mModuleNotFoundError\u001b[0m: No module named 'seaborn'"
     ]
    }
   ],
   "source": [
    "import pandas as pd\n",
    "import matplotlib.pyplot as plt\n",
    "import seaborn as sns"
   ]
  },
  {
   "cell_type": "code",
   "execution_count": 3,
   "id": "0d7322a5-6570-4628-8c9a-26a6345e4ffd",
   "metadata": {},
   "outputs": [],
   "source": [
    "from utils.get_data import by_BinanceVision"
   ]
  },
  {
   "cell_type": "code",
   "execution_count": 1,
   "id": "0a02446c-376a-4cf8-879c-51b48f0e877c",
   "metadata": {},
   "outputs": [],
   "source": [
    "TICKER = 'BTCUSDT'\n",
    "ITV = '1h'\n",
    "MARKET_TYPE = 'spot'\n",
    "DATA_TYPE = 'klines'"
   ]
  },
  {
   "cell_type": "code",
   "execution_count": 4,
   "id": "e350d4f4-3259-45a6-bd16-176acbccc071",
   "metadata": {},
   "outputs": [
    {
     "name": "stdout",
     "output_type": "stream",
     "text": [
      "Base url: https://data.binance.vision/data/spot/monthly/klines/BTCUSDT/1h/BTCUSDT-1h-\n",
      "Output folder: C:\\Cloud\\filips19mail\\github\\binance-algotrading/data/binance_vision/spot/klines/BTCUSDT1h\n",
      "time() - last_timestamp 138147.12938213348\n",
      "Collecting daily from 2025-01-07 to 2025-01-08\n",
      "downloading... https://data.binance.vision/data/spot/daily/klines/BTCUSDT/1h/BTCUSDT-1h-2025-01-08.zip\n"
     ]
    }
   ],
   "source": [
    "df_full = by_BinanceVision(ticker=TICKER,\n",
    "                               interval=ITV,\n",
    "                               market_type=MARKET_TYPE,\n",
    "                               data_type=DATA_TYPE,\n",
    "                               split=False,\n",
    "                               delay=100_000)"
   ]
  },
  {
   "cell_type": "code",
   "execution_count": 7,
   "id": "7576d92c-ee93-4523-a2f8-4428909771bd",
   "metadata": {},
   "outputs": [
    {
     "data": {
      "text/html": [
       "<div>\n",
       "<style scoped>\n",
       "    .dataframe tbody tr th:only-of-type {\n",
       "        vertical-align: middle;\n",
       "    }\n",
       "\n",
       "    .dataframe tbody tr th {\n",
       "        vertical-align: top;\n",
       "    }\n",
       "\n",
       "    .dataframe thead th {\n",
       "        text-align: right;\n",
       "    }\n",
       "</style>\n",
       "<table border=\"1\" class=\"dataframe\">\n",
       "  <thead>\n",
       "    <tr style=\"text-align: right;\">\n",
       "      <th></th>\n",
       "      <th>Opened</th>\n",
       "      <th>Open</th>\n",
       "      <th>High</th>\n",
       "      <th>Low</th>\n",
       "      <th>Close</th>\n",
       "      <th>Volume</th>\n",
       "    </tr>\n",
       "  </thead>\n",
       "  <tbody>\n",
       "    <tr>\n",
       "      <th>count</th>\n",
       "      <td>64843</td>\n",
       "      <td>64843.000000</td>\n",
       "      <td>64843.000000</td>\n",
       "      <td>64843.000000</td>\n",
       "      <td>64843.000000</td>\n",
       "      <td>6.484300e+04</td>\n",
       "    </tr>\n",
       "    <tr>\n",
       "      <th>mean</th>\n",
       "      <td>2021-04-29 02:00:00</td>\n",
       "      <td>27230.890069</td>\n",
       "      <td>27357.162990</td>\n",
       "      <td>27099.517739</td>\n",
       "      <td>27233.895589</td>\n",
       "      <td>2.831635e+03</td>\n",
       "    </tr>\n",
       "    <tr>\n",
       "      <th>min</th>\n",
       "      <td>2017-08-17 05:00:00</td>\n",
       "      <td>2870.900000</td>\n",
       "      <td>2950.000000</td>\n",
       "      <td>2817.000000</td>\n",
       "      <td>2919.000000</td>\n",
       "      <td>1.000000e-08</td>\n",
       "    </tr>\n",
       "    <tr>\n",
       "      <th>25%</th>\n",
       "      <td>2019-06-23 15:30:00</td>\n",
       "      <td>8517.675000</td>\n",
       "      <td>8567.275000</td>\n",
       "      <td>8465.400000</td>\n",
       "      <td>8517.955000</td>\n",
       "      <td>8.787725e+02</td>\n",
       "    </tr>\n",
       "    <tr>\n",
       "      <th>50%</th>\n",
       "      <td>2021-04-29 02:00:00</td>\n",
       "      <td>20227.460000</td>\n",
       "      <td>20323.240000</td>\n",
       "      <td>20135.540000</td>\n",
       "      <td>20226.720000</td>\n",
       "      <td>1.555298e+03</td>\n",
       "    </tr>\n",
       "    <tr>\n",
       "      <th>75%</th>\n",
       "      <td>2023-03-05 12:30:00</td>\n",
       "      <td>42157.685000</td>\n",
       "      <td>42318.460000</td>\n",
       "      <td>41954.730000</td>\n",
       "      <td>42159.085000</td>\n",
       "      <td>3.008134e+03</td>\n",
       "    </tr>\n",
       "    <tr>\n",
       "      <th>max</th>\n",
       "      <td>2025-01-08 23:00:00</td>\n",
       "      <td>103508.000000</td>\n",
       "      <td>104088.000000</td>\n",
       "      <td>102684.730000</td>\n",
       "      <td>103507.990000</td>\n",
       "      <td>1.372072e+05</td>\n",
       "    </tr>\n",
       "    <tr>\n",
       "      <th>std</th>\n",
       "      <td>NaN</td>\n",
       "      <td>22399.874244</td>\n",
       "      <td>22489.079926</td>\n",
       "      <td>22311.798634</td>\n",
       "      <td>22405.725438</td>\n",
       "      <td>4.099650e+03</td>\n",
       "    </tr>\n",
       "  </tbody>\n",
       "</table>\n",
       "</div>"
      ],
      "text/plain": [
       "                    Opened           Open           High            Low  \\\n",
       "count                64843   64843.000000   64843.000000   64843.000000   \n",
       "mean   2021-04-29 02:00:00   27230.890069   27357.162990   27099.517739   \n",
       "min    2017-08-17 05:00:00    2870.900000    2950.000000    2817.000000   \n",
       "25%    2019-06-23 15:30:00    8517.675000    8567.275000    8465.400000   \n",
       "50%    2021-04-29 02:00:00   20227.460000   20323.240000   20135.540000   \n",
       "75%    2023-03-05 12:30:00   42157.685000   42318.460000   41954.730000   \n",
       "max    2025-01-08 23:00:00  103508.000000  104088.000000  102684.730000   \n",
       "std                    NaN   22399.874244   22489.079926   22311.798634   \n",
       "\n",
       "               Close        Volume  \n",
       "count   64843.000000  6.484300e+04  \n",
       "mean    27233.895589  2.831635e+03  \n",
       "min      2919.000000  1.000000e-08  \n",
       "25%      8517.955000  8.787725e+02  \n",
       "50%     20226.720000  1.555298e+03  \n",
       "75%     42159.085000  3.008134e+03  \n",
       "max    103507.990000  1.372072e+05  \n",
       "std     22405.725438  4.099650e+03  "
      ]
     },
     "execution_count": 7,
     "metadata": {},
     "output_type": "execute_result"
    }
   ],
   "source": [
    "df_full.describe()"
   ]
  },
  {
   "cell_type": "code",
   "execution_count": 11,
   "id": "c76d8c63-deae-49b8-adfd-62e4a158231f",
   "metadata": {},
   "outputs": [
    {
     "name": "stdout",
     "output_type": "stream",
     "text": [
      "Opened    0\n",
      "Open      0\n",
      "High      0\n",
      "Low       0\n",
      "Close     0\n",
      "Volume    0\n",
      "dtype: int64\n",
      "                    Opened           Open           High            Low  \\\n",
      "count                64843   64843.000000   64843.000000   64843.000000   \n",
      "mean   2021-04-29 02:00:00   27230.890069   27357.162990   27099.517739   \n",
      "min    2017-08-17 05:00:00    2870.900000    2950.000000    2817.000000   \n",
      "25%    2019-06-23 15:30:00    8517.675000    8567.275000    8465.400000   \n",
      "50%    2021-04-29 02:00:00   20227.460000   20323.240000   20135.540000   \n",
      "75%    2023-03-05 12:30:00   42157.685000   42318.460000   41954.730000   \n",
      "max    2025-01-08 23:00:00  103508.000000  104088.000000  102684.730000   \n",
      "std                    NaN   22399.874244   22489.079926   22311.798634   \n",
      "\n",
      "               Close        Volume  \n",
      "count   64843.000000  6.484300e+04  \n",
      "mean    27233.895589  2.831635e+03  \n",
      "min      2919.000000  1.000000e-08  \n",
      "25%      8517.955000  8.787725e+02  \n",
      "50%     20226.720000  1.555298e+03  \n",
      "75%     42159.085000  3.008134e+03  \n",
      "max    103507.990000  1.372072e+05  \n",
      "std     22405.725438  4.099650e+03  \n"
     ]
    },
    {
     "data": {
      "image/png": "[encoded data removed]",
      "text/plain": [
       "<Figure size 640x480 with 1 Axes>"
      ]
     },
     "metadata": {},
     "output_type": "display_data"
    },
    {
     "ename": "ModuleNotFoundError",
     "evalue": "No module named 'plotly'",
     "output_type": "error",
     "traceback": [
      "\u001b[1;31m---------------------------------------------------------------------------\u001b[0m",
      "\u001b[1;31mModuleNotFoundError\u001b[0m                       Traceback (most recent call last)",
      "Cell \u001b[1;32mIn[11], line 13\u001b[0m\n\u001b[0;32m     10\u001b[0m plt\u001b[38;5;241m.\u001b[39mshow()\n\u001b[0;32m     12\u001b[0m \u001b[38;5;66;03m# Wykres świecowy\u001b[39;00m\n\u001b[1;32m---> 13\u001b[0m \u001b[38;5;28;01mimport\u001b[39;00m\u001b[38;5;250m \u001b[39m\u001b[38;5;21;01mplotly\u001b[39;00m\u001b[38;5;21;01m.\u001b[39;00m\u001b[38;5;21;01mgraph_objects\u001b[39;00m\u001b[38;5;250m \u001b[39m\u001b[38;5;28;01mas\u001b[39;00m\u001b[38;5;250m \u001b[39m\u001b[38;5;21;01mgo\u001b[39;00m\n\u001b[0;32m     14\u001b[0m fig \u001b[38;5;241m=\u001b[39m go\u001b[38;5;241m.\u001b[39mFigure(data\u001b[38;5;241m=\u001b[39m[go\u001b[38;5;241m.\u001b[39mCandlestick(\n\u001b[0;32m     15\u001b[0m     x\u001b[38;5;241m=\u001b[39mdf_full[\u001b[38;5;124m'\u001b[39m\u001b[38;5;124mOpened\u001b[39m\u001b[38;5;124m'\u001b[39m],\n\u001b[0;32m     16\u001b[0m     \u001b[38;5;28mopen\u001b[39m\u001b[38;5;241m=\u001b[39mdf_full[\u001b[38;5;124m'\u001b[39m\u001b[38;5;124mOpen\u001b[39m\u001b[38;5;124m'\u001b[39m],\n\u001b[1;32m   (...)\u001b[0m\n\u001b[0;32m     19\u001b[0m     close\u001b[38;5;241m=\u001b[39mdf_full[\u001b[38;5;124m'\u001b[39m\u001b[38;5;124mClose\u001b[39m\u001b[38;5;124m'\u001b[39m]\n\u001b[0;32m     20\u001b[0m )])\n\u001b[0;32m     21\u001b[0m fig\u001b[38;5;241m.\u001b[39mshow()\n",
      "\u001b[1;31mModuleNotFoundError\u001b[0m: No module named 'plotly'"
     ]
    }
   ],
   "source": [
    "# Sprawdzenie braków danych\n",
    "print(df_full.isnull().sum())\n",
    "\n",
    "# Statystyki opisowe\n",
    "print(df_full.describe())\n",
    "\n",
    "# Histogram cen zamknięcia\n",
    "plt.hist(df_full['Close'], bins=50, alpha=0.7)\n",
    "plt.title('Rozkład cen zamknięcia')\n",
    "plt.show()\n",
    "\n",
    "# Wykres świecowy\n",
    "import plotly.graph_objects as go\n",
    "fig = go.Figure(data=[go.Candlestick(\n",
    "    x=df_full['Opened'],\n",
    "    open=df_full['Open'],\n",
    "    high=df_full['High'],\n",
    "    low=df_full['Low'],\n",
    "    close=df_full['Close']\n",
    ")])\n",
    "fig.show()\n",
    "\n",
    "# Macierz korelacji\n",
    "sns.heatmap(df_full.corr(), annot=True, cmap='coolwarm')\n",
    "plt.show()"
   ]
  }
 ],
 "metadata": {
  "kernelspec": {
   "display_name": "Python 3 (ipykernel)",
   "language": "python",
   "name": "python3"
  },
  "language_info": {
   "codemirror_mode": {
    "name": "ipython",
    "version": 3
   },
   "file_extension": ".py",
   "mimetype": "text/x-python",
   "name": "python",
   "nbconvert_exporter": "python",
   "pygments_lexer": "ipython3",
   "version": "3.11.9"
  }
 },
 "nbformat": 4,
 "nbformat_minor": 5
}
